{
 "cells": [
  {
   "cell_type": "markdown",
   "id": "9473b3b1",
   "metadata": {},
   "source": [
    "# Importing modules"
   ]
  },
  {
   "cell_type": "code",
   "execution_count": 2,
   "id": "456cfa8f",
   "metadata": {},
   "outputs": [],
   "source": [
    "%matplotlib qt5\n",
    "import numpy as np\n",
    "import matplotlib.pyplot as plt\n",
    "import csv\n",
    "import pandas as pd"
   ]
  },
  {
   "cell_type": "markdown",
   "id": "9cf3abe9",
   "metadata": {},
   "source": [
    "# Creating array from .out"
   ]
  },
  {
   "cell_type": "markdown",
   "id": "a4775520",
   "metadata": {},
   "source": [
    "## A cell for each construct - execute only the relevant one"
   ]
  },
  {
   "cell_type": "markdown",
   "id": "ae24a379",
   "metadata": {},
   "source": [
    "### FST315"
   ]
  },
  {
   "cell_type": "code",
   "execution_count": 54,
   "id": "7fd2d12a",
   "metadata": {},
   "outputs": [],
   "source": [
    "# Convert .out file to .csv and then convert it into a list\n",
    "out = pd.read_csv('foxs/FST315foxs_rg_dmax.out', sep='\\s+')\n",
    "out.to_csv('csvs/FST315foxs_rg_dmax.csv', index=False)\n",
    "reader = csv.reader(open(\"csvs/FST315foxs_rg_dmax.csv\", \"r\"), delimiter=\",\")\n",
    "x = list(reader)"
   ]
  },
  {
   "cell_type": "markdown",
   "id": "15694c07",
   "metadata": {},
   "source": [
    "### FST303"
   ]
  },
  {
   "cell_type": "code",
   "execution_count": 92,
   "id": "240263d0",
   "metadata": {},
   "outputs": [],
   "source": [
    "# Convert .out file to .csv and then convert it into a list\n",
    "out = pd.read_csv('foxs/FST303foxs_rg_dmax.out', sep='\\s+')\n",
    "out.to_csv('csvs/FST303foxs_rg_dmax.csv', index=False)\n",
    "reader = csv.reader(open(\"csvs/FST303foxs_rg_dmax.csv\", \"r\"), delimiter=\",\")\n",
    "x = list(reader)"
   ]
  },
  {
   "cell_type": "markdown",
   "id": "361ed4e2",
   "metadata": {},
   "source": [
    "### FST288"
   ]
  },
  {
   "cell_type": "code",
   "execution_count": 104,
   "id": "59719a81",
   "metadata": {},
   "outputs": [],
   "source": [
    "# Convert .out file to .csv and then convert it into a list\n",
    "out = pd.read_csv('foxs/FST288foxs_rg_dmax.out', sep='\\s+')\n",
    "out.to_csv('csvs/FST288foxs_rg_dmax.csv', index=False)\n",
    "reader = csv.reader(open(\"csvs/FST288foxs_rg_dmax.csv\", \"r\"), delimiter=\",\")\n",
    "x = list(reader)\n",
    "# print(x)"
   ]
  },
  {
   "cell_type": "markdown",
   "id": "fbf2e8f5",
   "metadata": {},
   "source": [
    "## Execute the below cells for all constructs"
   ]
  },
  {
   "cell_type": "code",
   "execution_count": 105,
   "id": "c347d472",
   "metadata": {},
   "outputs": [],
   "source": [
    "# convert list x into an array\n",
    "data_array = np.array(x)\n",
    "# print(data_array)"
   ]
  },
  {
   "cell_type": "code",
   "execution_count": 106,
   "id": "3c13775f",
   "metadata": {},
   "outputs": [],
   "source": [
    "#cut one missing row #run multiple times if multiple empty lines - I think I no longer need it, because of using pandas for csv generation\n",
    "while '' in data_array:\n",
    "    line = np.where(data_array == '')\n",
    "    data_array = np.delete(data_array, line[0][0],axis=0)\n",
    "# print(data_array)"
   ]
  },
  {
   "cell_type": "code",
   "execution_count": 107,
   "id": "9f6a31b2",
   "metadata": {},
   "outputs": [],
   "source": [
    "Rg = data_array[1:,1].astype('float')\n",
    "Dmax = data_array[1:,2].astype('float')"
   ]
  },
  {
   "cell_type": "code",
   "execution_count": 108,
   "id": "9178b1ee",
   "metadata": {},
   "outputs": [
    {
     "data": {
      "text/plain": [
       "<matplotlib.collections.PathCollection at 0x196234919a0>"
      ]
     },
     "execution_count": 108,
     "metadata": {},
     "output_type": "execute_result"
    }
   ],
   "source": [
    "plt.scatter(Rg,Dmax,c='k',marker='+')"
   ]
  },
  {
   "cell_type": "markdown",
   "id": "13587624",
   "metadata": {},
   "source": [
    "# Generating Heatmaps"
   ]
  },
  {
   "cell_type": "code",
   "execution_count": 109,
   "id": "302f6f4c",
   "metadata": {},
   "outputs": [],
   "source": [
    "size = 100\n",
    "\n",
    "Rg_min, Rg_max = np.min(Rg), np.max(Rg)\n",
    "Rg_floor, Rg_ceiling = np.floor(Rg_min), np.ceil(Rg_max)\n",
    "\n",
    "Dmax_min, Dmax_max = np.min(Dmax), np.max(Dmax)\n",
    "Dmax_floor, Dmax_ceiling = np.floor(Dmax_min), np.ceil(Dmax_max)\n",
    "\n",
    "heatmap = np.zeros((size,size))\n",
    "Rgvals = np.linspace(Rg_floor, Rg_ceiling , num=size, endpoint=False)\n",
    "Dmaxvals = np.linspace(Dmax_floor, Dmax_ceiling , num=size, endpoint=False)"
   ]
  },
  {
   "cell_type": "code",
   "execution_count": 110,
   "id": "efa36f9b",
   "metadata": {},
   "outputs": [],
   "source": [
    "for i, Rg_ in enumerate(Rg):\n",
    "    Dmax_ = Dmax[i]\n",
    "    \n",
    "    x_ = np.sum(Rg_ > Rgvals)\n",
    "    y_ = np.sum(Dmax_ > Dmaxvals)\n",
    "    \n",
    "    heatmap[x_-1,y_-1] += 1\n",
    "    \n",
    "heatmap = np.rot90(heatmap)"
   ]
  },
  {
   "cell_type": "code",
   "execution_count": 111,
   "id": "885c58b2",
   "metadata": {},
   "outputs": [
    {
     "data": {
      "text/plain": [
       "<matplotlib.image.AxesImage at 0x19612d2b8b0>"
      ]
     },
     "execution_count": 111,
     "metadata": {},
     "output_type": "execute_result"
    }
   ],
   "source": [
    "#fig = plt.figure(figsize=(3,3),dpi=200)\n",
    "#ax = plt.gca()\n",
    "\n",
    "plt.imshow(heatmap,\n",
    "           cmap='Greys',\n",
    "           extent=[Rg_min,Rg_max,Dmax_min,Dmax_max],\n",
    "           aspect=(Rg_max-Rg_min)/(Dmax_max-Dmax_min))\n",
    "#plt.savefig('example1.tiff')\n",
    "\n",
    "# ax.imshow(img, vmin=0.25,  interpolation='gaussian', cmap=cmapheat,\n",
    "#            extent=[Rg_floor, Rg_ceiling, Dmax_floor, Dmax_ceiling],\n",
    "#            aspect=(Rg_ceiling - Rg_floor)/(Dmax_ceiling - Dmax_floor))"
   ]
  },
  {
   "cell_type": "markdown",
   "id": "f4bd4521",
   "metadata": {},
   "source": [
    "## A cell for each construct - execute only the relevant one"
   ]
  },
  {
   "cell_type": "markdown",
   "id": "59b4f061",
   "metadata": {},
   "source": [
    "### FST315 - need to change averything below"
   ]
  },
  {
   "cell_type": "code",
   "execution_count": 91,
   "id": "9bd76443",
   "metadata": {},
   "outputs": [],
   "source": [
    "import scipy.ndimage as ndimage\n",
    "\n",
    "img = ndimage.gaussian_filter(heatmap, sigma=(2, 2), order=0)\n",
    "\n",
    "fig = plt.figure(figsize=(4,4),dpi=300)\n",
    "ax = plt.gca()\n",
    "\n",
    "cmapheat = plt.cm.tab20b.copy() #colormap we want to use\n",
    "cmapheat.set_under(('#202245')) # set anything under our defined minimum (vmin below) to white\n",
    "\n",
    "# set the font globally\n",
    "plt.rcParams.update({'font.family':'arial'})\n",
    "\n",
    "# Add title - change title for each construct\n",
    "plt.title('FST315', y=1.05, fontweight='bold')\n",
    "\n",
    "# Add axis names\n",
    "plt.xlabel(r'$\\bf{R_{g}}$, Å', fontweight='bold')\n",
    "plt.ylabel(r'$\\bf{D_{max}}$, Å', fontweight='bold')\n",
    "\n",
    "# Add spacing for axis labels\n",
    "spacing = 0.15\n",
    "fig.subplots_adjust(spacing)\n",
    "\n",
    "# Add BilboMD model's Rg and Dmax dots:\n",
    "\n",
    "# State1 34.7919\t106.756\n",
    "# change coordinates - it's x then y\n",
    "ax.scatter([34.7919],[106.756],s=30, color='white')\n",
    "# change text, coordinates and adjust arrow position\n",
    "ax.annotate('\"Open\" 65%', xy=(34.7919, 106.756), xytext=(34.7919, 80), horizontalalignment=\"center\", color='white',\n",
    "            arrowprops=dict(arrowstyle=\"-\", color='white'))\n",
    "\n",
    "# State2 30.4789\t100.509\n",
    "# change coordinates - it's x then y\n",
    "ax.scatter([30.4789],[100.509],s=30, color='white')\n",
    "# change text, coordinates and adjust arrow position\n",
    "ax.annotate('\"Closed\" 35%', xy=(30.4789, 100.509), xytext=(31.5, 140), horizontalalignment=\"center\", color='white')\n",
    "\n",
    "#Starting point of FTS315 BilboMD modelling 35.2716\t122.716S\n",
    "ax.scatter([35.2716],[122.716],s=30, color='white')\n",
    "ax.annotate('START', xy=(35.2716, 122.716), xytext=(35.2716, 125), horizontalalignment=\"center\", color='white')\n",
    "\n",
    "plt.imshow(img, vmin=0.25,  interpolation='gaussian', cmap=cmapheat,\n",
    "           extent=[Rg_floor, Rg_ceiling, Dmax_floor, Dmax_ceiling],\n",
    "           aspect=(Rg_ceiling - Rg_floor)/(Dmax_ceiling - Dmax_floor))\n",
    "\n",
    "# Adds streight vertical line to the \"Closed\" 35% annotation label\n",
    "ax.vlines([30.4789], 100.509, 138, colors='white', linewidth=0.9)\n",
    "\n",
    "# to save the plot - need to change name for each construct\n",
    "plt.savefig('plots/FST315.tif', transparent=True)"
   ]
  },
  {
   "cell_type": "markdown",
   "id": "6e4d69db",
   "metadata": {},
   "source": [
    "### FST303"
   ]
  },
  {
   "cell_type": "code",
   "execution_count": 101,
   "id": "6784f9b4",
   "metadata": {},
   "outputs": [],
   "source": [
    "import scipy.ndimage as ndimage\n",
    "\n",
    "img = ndimage.gaussian_filter(heatmap, sigma=(2, 2), order=0)\n",
    "\n",
    "fig = plt.figure(figsize=(4,4),dpi=300)\n",
    "ax = plt.gca()\n",
    "\n",
    "cmapheat = plt.cm.tab20b.copy() #colormap we want to use\n",
    "cmapheat.set_under(('#202245')) # set anything under our defined minimum (vmin below) to white\n",
    "\n",
    "# set the font globally\n",
    "plt.rcParams.update({'font.family':'arial'})\n",
    "\n",
    "# Add title - change title for each construct\n",
    "plt.title('FST303', y=1.05, fontweight='bold')\n",
    "\n",
    "# Add axis names\n",
    "plt.xlabel(r'$\\bf{R_{g}}$, Å', fontweight='bold')\n",
    "plt.ylabel(r'$\\bf{D_{max}}$, Å', fontweight='bold')\n",
    "\n",
    "# Add spacing for axis labels\n",
    "spacing = 0.15\n",
    "fig.subplots_adjust(spacing)\n",
    "\n",
    "# Add BilboMD model's Rg and Dmax dots:\n",
    "\n",
    "# State1\n",
    "# change coordinates - it's x then y\n",
    "ax.scatter([34.466],[107.017],s=30, color='white')\n",
    "# change text, coordinates and adjust arrow position\n",
    "ax.annotate('\"Open\" 63%', xy=(34.466, 107.017), xytext=(34.466, 80), horizontalalignment=\"center\", color='white',\n",
    "            arrowprops=dict(arrowstyle=\"-\", color='white'))\n",
    "\n",
    "# State2\n",
    "# change coordinates - it's x then y\n",
    "ax.scatter([28.444],[89.0537],s=30, color='white')\n",
    "# change text, coordinates and adjust arrow position\n",
    "ax.annotate('\"Closed\" 37%', xy=(28.444, 89.0537), xytext=(28.444, 120), horizontalalignment=\"center\", color='white',\n",
    "            arrowprops=dict(arrowstyle=\"-\", color='white'))\n",
    "\n",
    "#Starting point of BilboMD modelling 32.6835\t107.651\n",
    "ax.scatter([32.6835],[107.651],s=30, color='white')\n",
    "ax.annotate('START', xy=(32.6835, 107.651), xytext=(32.6835, 110), horizontalalignment=\"center\", color='white')\n",
    "\n",
    "plt.imshow(img, vmin=0.25,  interpolation='gaussian', cmap=cmapheat,\n",
    "           extent=[Rg_floor, Rg_ceiling, Dmax_floor, Dmax_ceiling],\n",
    "           aspect=(Rg_ceiling - Rg_floor)/(Dmax_ceiling - Dmax_floor))\n",
    "\n",
    "# to save the plot - need to change name for each construct\n",
    "plt.savefig('plots/FST303.tif', transparent=True)"
   ]
  },
  {
   "cell_type": "markdown",
   "id": "863e9f93",
   "metadata": {},
   "source": [
    "### FST288"
   ]
  },
  {
   "cell_type": "code",
   "execution_count": 114,
   "id": "cce0d135",
   "metadata": {},
   "outputs": [],
   "source": [
    "import scipy.ndimage as ndimage\n",
    "\n",
    "img = ndimage.gaussian_filter(heatmap, sigma=(2, 2), order=0)\n",
    "\n",
    "fig = plt.figure(figsize=(4,4),dpi=300)\n",
    "ax = plt.gca()\n",
    "\n",
    "cmapheat = plt.cm.tab20b.copy() #colormap we want to use\n",
    "cmapheat.set_under(('#202245')) # set anything under our defined minimum (vmin below) to white\n",
    "\n",
    "# set the font globally\n",
    "plt.rcParams.update({'font.family':'arial'})\n",
    "\n",
    "# Add title - change title for each construct\n",
    "plt.title('FST288', y=1.05, fontweight='bold')\n",
    "\n",
    "# Add axis names\n",
    "plt.xlabel(r'$\\bf{R_{g}}$, Å', fontweight='bold')\n",
    "plt.ylabel(r'$\\bf{D_{max}}$, Å', fontweight='bold')\n",
    "\n",
    "# Add spacing for axis labels\n",
    "spacing = 0.15\n",
    "fig.subplots_adjust(spacing)\n",
    "\n",
    "# Add BilboMD model's Rg and Dmax dots:\n",
    "\n",
    "# State1 34.8814\t110.714\n",
    "# change coordinates - it's x then y\n",
    "ax.scatter([34.8814],[110.714],s=30, color='white')\n",
    "# change text, coordinates and adjust arrow position\n",
    "ax.annotate('State1 57%', xy=(34.8814, 110.714), xytext=(34.8814, 80), horizontalalignment=\"center\", color='white',\n",
    "            arrowprops=dict(arrowstyle=\"-\", color='white'))\n",
    "\n",
    "# State2 28.4896\t89.6316\n",
    "# change coordinates - it's x then y\n",
    "ax.scatter([28.4896],[89.6316],s=30, color='white')\n",
    "# change text, coordinates and adjust arrow position\n",
    "ax.annotate('State2 43%', xy=(28.4896, 89.6316), xytext=(28.4896, 105), horizontalalignment=\"center\", color='white',\n",
    "            arrowprops=dict(arrowstyle=\"-\", color='white'))\n",
    "\n",
    "#Starting point of BilboMD modelling 31.2958\t89.4564\n",
    "ax.scatter([31.2958],[89.4564],s=30, color='white')\n",
    "ax.annotate('START', xy=(31.2958, 89.4564), xytext=(31.2958, 86), horizontalalignment=\"center\", color='white')\n",
    "\n",
    "plt.imshow(img, vmin=0.25,  interpolation='gaussian', cmap=cmapheat,\n",
    "           extent=[Rg_floor, Rg_ceiling, Dmax_floor, Dmax_ceiling],\n",
    "           aspect=(Rg_ceiling - Rg_floor)/(Dmax_ceiling - Dmax_floor))\n",
    "\n",
    "# to save the plot - need to change name for each construct\n",
    "plt.savefig('plots/FST288.tif', transparent=True)"
   ]
  },
  {
   "cell_type": "markdown",
   "id": "34702721",
   "metadata": {},
   "source": [
    "# Ignore below - it's a more mathsy way of generating heatmaps"
   ]
  },
  {
   "cell_type": "code",
   "execution_count": null,
   "id": "c9c08d0f",
   "metadata": {},
   "outputs": [],
   "source": [
    "plt.hist(img.flatten())"
   ]
  },
  {
   "cell_type": "code",
   "execution_count": null,
   "id": "1dad9656",
   "metadata": {},
   "outputs": [],
   "source": [
    "#cell for generating a figure with no whitespace\n",
    "import scipy.ndimage as ndimage\n",
    "\n",
    "img = ndimage.gaussian_filter(heatmap, sigma=(2, 2), order=0)\n",
    "\n",
    "fig = plt.figure(figsize=(4,4),dpi=300)\n",
    "ax = plt.gca()\n",
    "\n",
    "plt.imshow(img,  interpolation='gaussian', cmap='tab20b',\n",
    "           extent=[Rg_min,Rg_max,Dmax_min,Dmax_max],\n",
    "           aspect=(Rg_max-Rg_min)/(Dmax_max-Dmax_min))\n",
    "plt.axis('off')\n",
    "\n",
    "plt.savefig('example10.tiff', bbox_inches='tight', pad_inches=0)"
   ]
  },
  {
   "cell_type": "markdown",
   "id": "480a82e1",
   "metadata": {},
   "source": [
    "# Heatmap via distance"
   ]
  },
  {
   "cell_type": "code",
   "execution_count": null,
   "id": "2af60789",
   "metadata": {},
   "outputs": [],
   "source": [
    "size = 200\n",
    "heatmap = np.zeros((size,size))\n",
    "\n",
    "Rg_min, Rg_max = np.min(Rg), np.max(Rg)\n",
    "Dmax_min, Dmax_max = np.min(Dmax), np.max(Dmax)\n",
    "\n",
    "distance_fac = 60\n",
    "distance_R = (Rg_max - Rg_min)/distance_fac\n",
    "distance_D = (Dmax_max - Dmax_min)/distance_fac\n",
    "\n",
    "heatmap = np.zeros((size,size))\n",
    "Rgvals = np.linspace(np.floor(Rg_min),np.ceil(Rg_max) , num=size, endpoint=False)\n",
    "Dmaxvals = np.linspace(np.floor(Dmax_min),np.ceil(Dmax_max) , num=size, endpoint=False)"
   ]
  },
  {
   "cell_type": "code",
   "execution_count": null,
   "id": "cecd0752",
   "metadata": {},
   "outputs": [],
   "source": [
    "for x_, Rg_ in enumerate(Rgvals):\n",
    "    for y_, Dmax_ in enumerate(Dmaxvals):\n",
    "    \n",
    "        #Dmax_ = Dmax[i]\n",
    "\n",
    "        #x_ = np.sum(Rg_ > Rgvals)\n",
    "        #y_ = np.sum(Dmax_ > Dmaxvals)\n",
    "\n",
    "        x_min = Rg_ - distance_R\n",
    "        x_max = Rg_ + distance_R\n",
    "        y_min = Dmax_ - distance_D\n",
    "        y_max = Dmax_ + distance_D\n",
    "\n",
    "        num = (Rg > x_min) * (Rg < x_max) * (Dmax > y_min) * (Dmax < y_max)\n",
    "\n",
    "        heatmap[x_,y_] += np.sum(num)\n",
    "\n",
    "    \n",
    "heatmap = np.rot90(heatmap)"
   ]
  },
  {
   "cell_type": "code",
   "execution_count": null,
   "id": "3b8ef7c0",
   "metadata": {},
   "outputs": [],
   "source": [
    "plt.imshow(heatmap,cmap='Greys')"
   ]
  },
  {
   "cell_type": "code",
   "execution_count": null,
   "id": "3d255348",
   "metadata": {},
   "outputs": [],
   "source": [
    "fig = plt.figure(figsize=(4,4),dpi=200)\n",
    "ax = plt.gca()\n",
    "ax.imshow(heatmap,cmap='Greys',extent=[Rg_min,Rg_max,Dmax_min,Dmax_max],aspect=(Rg_max-Rg_min)/(Dmax_max-Dmax_min))\n",
    "plt.savefig('example4.tiff')"
   ]
  },
  {
   "cell_type": "code",
   "execution_count": null,
   "id": "69561810",
   "metadata": {},
   "outputs": [],
   "source": [
    "import scipy.ndimage as ndimage\n",
    "img = ndimage.gaussian_filter(heatmap, sigma=(3, 3), order=0)\n",
    "plt.imshow(img, interpolation='nearest',cmap='tab20b',\n",
    "           extent=[Rg_min,Rg_max,Dmax_min,Dmax_max],\n",
    "           aspect=(Rg_max-Rg_min)/(Dmax_max-Dmax_min))\n",
    "plt.savefig('example8.tiff')"
   ]
  },
  {
   "cell_type": "code",
   "execution_count": null,
   "id": "ddf66c76",
   "metadata": {},
   "outputs": [],
   "source": [
    "plt.plot((Rg > x_min) * (Rg < x_max))"
   ]
  }
 ],
 "metadata": {
  "kernelspec": {
   "display_name": "py3",
   "language": "python",
   "name": "py3"
  },
  "language_info": {
   "codemirror_mode": {
    "name": "ipython",
    "version": 3
   },
   "file_extension": ".py",
   "mimetype": "text/x-python",
   "name": "python",
   "nbconvert_exporter": "python",
   "pygments_lexer": "ipython3",
   "version": "3.9.13"
  }
 },
 "nbformat": 4,
 "nbformat_minor": 5
}
