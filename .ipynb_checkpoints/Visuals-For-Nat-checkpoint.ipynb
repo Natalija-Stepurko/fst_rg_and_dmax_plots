{
 "cells": [
  {
   "cell_type": "markdown",
   "id": "9473b3b1",
   "metadata": {},
   "source": [
    "# Importing modules"
   ]
  },
  {
   "cell_type": "code",
   "execution_count": 1,
   "id": "456cfa8f",
   "metadata": {},
   "outputs": [],
   "source": [
    "%matplotlib qt5\n",
    "import numpy as np\n",
    "import matplotlib.pyplot as plt\n",
    "import csv\n",
    "import pandas as pd"
   ]
  },
  {
   "cell_type": "markdown",
   "id": "9cf3abe9",
   "metadata": {},
   "source": [
    "# Creating array from .out"
   ]
  },
  {
   "cell_type": "markdown",
   "id": "7dffd17e",
   "metadata": {},
   "source": [
    "## A cell for each construct - execute only the relevant one"
   ]
  },
  {
   "cell_type": "markdown",
   "id": "68c0586a",
   "metadata": {},
   "source": [
    "### FS1"
   ]
  },
  {
   "cell_type": "code",
   "execution_count": 2,
   "id": "7303d6ed",
   "metadata": {},
   "outputs": [],
   "source": [
    "# Convert .out file to .csv and then convert it into a list\n",
    "out = pd.read_csv('foxs/FS1foxs_rg_dmax.out', sep='\\s+')\n",
    "out.to_csv('csvs/FS1foxs_rg_dmax.csv', index=False)\n",
    "reader = csv.reader(open(\"csvs/FS1foxs_rg_dmax.csv\", \"r\"), delimiter=\",\")\n",
    "x = list(reader)"
   ]
  },
  {
   "cell_type": "markdown",
   "id": "803c753e",
   "metadata": {},
   "source": [
    "### FS23"
   ]
  },
  {
   "cell_type": "code",
   "execution_count": null,
   "id": "155a4aa7",
   "metadata": {},
   "outputs": [],
   "source": [
    "# Convert .out file to .csv and then convert it into a list\n",
    "out = pd.read_csv('foxs/FS23foxs_rg_dmax.out', sep='\\s+')\n",
    "out.to_csv('csvs/FS23foxs_rg_dmax.csv', index=False)\n",
    "reader = csv.reader(open(\"csvs/FS23foxs_rg_dmax.csv\", \"r\"), delimiter=\",\")\n",
    "x = list(reader)"
   ]
  },
  {
   "cell_type": "markdown",
   "id": "bb9c3ded",
   "metadata": {},
   "source": [
    "### FS12"
   ]
  },
  {
   "cell_type": "code",
   "execution_count": null,
   "id": "d3bcf7dd",
   "metadata": {},
   "outputs": [],
   "source": [
    "# Convert .out file to .csv and then convert it into a list\n",
    "out = pd.read_csv('foxs/FS12foxs_rg_dmax.out', sep='\\s+')\n",
    "out.to_csv('csvs/FS12foxs_rg_dmax.csv', index=False)\n",
    "reader = csv.reader(open(\"csvs/FS12foxs_rg_dmax.csv\", \"r\"), delimiter=\",\")\n",
    "x = list(reader)"
   ]
  },
  {
   "cell_type": "markdown",
   "id": "47298f11",
   "metadata": {},
   "source": [
    "### FS01"
   ]
  },
  {
   "cell_type": "code",
   "execution_count": null,
   "id": "e7acfaca",
   "metadata": {},
   "outputs": [],
   "source": [
    "# Convert .out file to .csv and then convert it into a list\n",
    "out = pd.read_csv('foxs/FS01foxs_rg_dmax.out', sep='\\s+')\n",
    "out.to_csv('csvs/FS01foxs_rg_dmax.csv', index=False)\n",
    "reader = csv.reader(open(\"csvs/FS01foxs_rg_dmax.csv\", \"r\"), delimiter=\",\")\n",
    "x = list(reader)"
   ]
  },
  {
   "cell_type": "markdown",
   "id": "03dcfa44",
   "metadata": {},
   "source": [
    "### FST315"
   ]
  },
  {
   "cell_type": "code",
   "execution_count": null,
   "id": "319b4ffe",
   "metadata": {},
   "outputs": [],
   "source": [
    "# Convert .out file to .csv and then convert it into a list\n",
    "out = pd.read_csv('foxs/FST315foxs_rg_dmax.out', sep='\\s+')\n",
    "out.to_csv('csvs/FST315foxs_rg_dmax.csv', index=False)\n",
    "reader = csv.reader(open(\"csvs/FST315foxs_rg_dmax.csv\", \"r\"), delimiter=\",\")\n",
    "x = list(reader)"
   ]
  },
  {
   "cell_type": "markdown",
   "id": "f9ee3329",
   "metadata": {},
   "source": [
    "### FST303"
   ]
  },
  {
   "cell_type": "code",
   "execution_count": null,
   "id": "6715a553",
   "metadata": {},
   "outputs": [],
   "source": [
    "# Convert .out file to .csv and then convert it into a list\n",
    "out = pd.read_csv('foxs/FST303foxs_rg_dmax.out', sep='\\s+')\n",
    "out.to_csv('csvs/FST303foxs_rg_dmax.csv', index=False)\n",
    "reader = csv.reader(open(\"csvs/FST303foxs_rg_dmax.csv\", \"r\"), delimiter=\",\")\n",
    "x = list(reader)"
   ]
  },
  {
   "cell_type": "markdown",
   "id": "4f42f3f3",
   "metadata": {},
   "source": [
    "### FST288"
   ]
  },
  {
   "cell_type": "code",
   "execution_count": null,
   "id": "59719a81",
   "metadata": {},
   "outputs": [],
   "source": [
    "# Convert .out file to .csv and then convert it into a list\n",
    "out = pd.read_csv('foxs/FST288foxs_rg_dmax.out', sep='\\s+')\n",
    "out.to_csv('csvs/FST288foxs_rg_dmax.csv', index=False)\n",
    "reader = csv.reader(open(\"csvs/FST288foxs_rg_dmax.csv\", \"r\"), delimiter=\",\")\n",
    "x = list(reader)\n",
    "# print(x)"
   ]
  },
  {
   "cell_type": "markdown",
   "id": "25846517",
   "metadata": {},
   "source": [
    "## Execute the below cells for all constructs"
   ]
  },
  {
   "cell_type": "code",
   "execution_count": 3,
   "id": "c347d472",
   "metadata": {},
   "outputs": [],
   "source": [
    "# convert list x into an array\n",
    "data_array = np.array(x)\n",
    "# print(data_array)"
   ]
  },
  {
   "cell_type": "code",
   "execution_count": 4,
   "id": "3c13775f",
   "metadata": {},
   "outputs": [],
   "source": [
    "#cut one missing row #run multiple times if multiple empty lines - I think I no longer need it, because of using pandas for csv generation\n",
    "while '' in data_array:\n",
    "    line = np.where(data_array == '')\n",
    "    data_array = np.delete(data_array, line[0][0],axis=0)\n",
    "# print(data_array)"
   ]
  },
  {
   "cell_type": "code",
   "execution_count": 5,
   "id": "9f6a31b2",
   "metadata": {},
   "outputs": [],
   "source": [
    "Rg = data_array[1:,1].astype('float')\n",
    "Dmax = data_array[1:,2].astype('float')"
   ]
  },
  {
   "cell_type": "code",
   "execution_count": 6,
   "id": "9178b1ee",
   "metadata": {},
   "outputs": [
    {
     "data": {
      "text/plain": [
       "<matplotlib.collections.PathCollection at 0x15655740190>"
      ]
     },
     "execution_count": 6,
     "metadata": {},
     "output_type": "execute_result"
    }
   ],
   "source": [
    "plt.scatter(Rg,Dmax,c='k',marker='+')"
   ]
  },
  {
   "cell_type": "markdown",
   "id": "13587624",
   "metadata": {},
   "source": [
    "# Generating Heatmaps"
   ]
  },
  {
   "cell_type": "code",
   "execution_count": 7,
   "id": "302f6f4c",
   "metadata": {},
   "outputs": [],
   "source": [
    "size = 100\n",
    "\n",
    "Rg_min, Rg_max = np.min(Rg), np.max(Rg)\n",
    "Rg_floor, Rg_ceiling = np.floor(Rg_min), np.ceil(Rg_max)\n",
    "\n",
    "Dmax_min, Dmax_max = np.min(Dmax), np.max(Dmax)\n",
    "Dmax_floor, Dmax_ceiling = np.floor(Dmax_min), np.ceil(Dmax_max)\n",
    "\n",
    "heatmap = np.zeros((size,size))\n",
    "Rgvals = np.linspace(Rg_floor, Rg_ceiling , num=size, endpoint=False)\n",
    "Dmaxvals = np.linspace(Dmax_floor, Dmax_ceiling , num=size, endpoint=False)"
   ]
  },
  {
   "cell_type": "code",
   "execution_count": 8,
   "id": "efa36f9b",
   "metadata": {},
   "outputs": [],
   "source": [
    "for i, Rg_ in enumerate(Rg):\n",
    "    Dmax_ = Dmax[i]\n",
    "    \n",
    "    x_ = np.sum(Rg_ > Rgvals)\n",
    "    y_ = np.sum(Dmax_ > Dmaxvals)\n",
    "    \n",
    "    heatmap[x_-1,y_-1] += 1\n",
    "    \n",
    "heatmap = np.rot90(heatmap)"
   ]
  },
  {
   "cell_type": "code",
   "execution_count": 9,
   "id": "885c58b2",
   "metadata": {},
   "outputs": [
    {
     "data": {
      "text/plain": [
       "<matplotlib.image.AxesImage at 0x15656028220>"
      ]
     },
     "execution_count": 9,
     "metadata": {},
     "output_type": "execute_result"
    }
   ],
   "source": [
    "#fig = plt.figure(figsize=(3,3),dpi=200)\n",
    "#ax = plt.gca()\n",
    "\n",
    "plt.imshow(heatmap,\n",
    "           cmap='Greys',\n",
    "           extent=[Rg_min,Rg_max,Dmax_min,Dmax_max],\n",
    "           aspect=(Rg_max-Rg_min)/(Dmax_max-Dmax_min))\n",
    "#plt.savefig('example1.tiff')\n",
    "\n",
    "# ax.imshow(img, vmin=0.25,  interpolation='gaussian', cmap=cmapheat,\n",
    "#            extent=[Rg_floor, Rg_ceiling, Dmax_floor, Dmax_ceiling],\n",
    "#            aspect=(Rg_ceiling - Rg_floor)/(Dmax_ceiling - Dmax_floor))"
   ]
  },
  {
   "cell_type": "markdown",
   "id": "8e1f93aa",
   "metadata": {},
   "source": [
    "## A cell for each construct - execute only the relevant one"
   ]
  },
  {
   "cell_type": "markdown",
   "id": "6a689f1b",
   "metadata": {},
   "source": [
    "### FS1 - Somthing is wrong with heatmap generation"
   ]
  },
  {
   "cell_type": "code",
   "execution_count": null,
   "id": "787d4793",
   "metadata": {},
   "outputs": [],
   "source": [
    "import scipy.ndimage as ndimage\n",
    "\n",
    "img = ndimage.gaussian_filter(heatmap, sigma=(2, 2), order=0)\n",
    "\n",
    "fig = plt.figure(figsize=(4,4),dpi=300)\n",
    "ax = plt.gca()\n",
    "\n",
    "cmapheat = plt.cm.tab20b.copy() #colormap we want to use\n",
    "cmapheat.set_under(('#202245')) # set anything under our defined minimum (vmin below) to white\n",
    "\n",
    "# set the font globally\n",
    "plt.rcParams.update({'font.family':'arial'})\n",
    "\n",
    "# Add title - change title for each construct\n",
    "plt.title('FS1', y=1.05, fontweight='bold')\n",
    "\n",
    "# Add axis names\n",
    "plt.xlabel(r'$\\bf{R_{g}}$, Å', fontweight='bold')\n",
    "plt.ylabel(r'$\\bf{D_{max}}$, Å', fontweight='bold')\n",
    "\n",
    "# Add spacing for axis labels\n",
    "spacing = 0.15\n",
    "fig.subplots_adjust(spacing)\n",
    "\n",
    "# Add BilboMD model's Rg and Dmax dots:\n",
    "\n",
    "# State1 14.8552\t43.4703\n",
    "# change coordinates - it's x then y\n",
    "ax.scatter([14.8552],[43.4703],s=30, color='white')\n",
    "# change text, coordinates and adjust arrow position\n",
    "ax.annotate('\"Open\" 63%', xy=(14.8552, 43.4703), xytext=(14.8552, 44), horizontalalignment=\"center\", color='white',\n",
    "            arrowprops=dict(arrowstyle=\"-\", color='white'))\n",
    "\n",
    "#Starting point of BilboMD modelling 14.8526\t43.4645\n",
    "ax.scatter([14.8526],[43.4645],s=30, color='white')\n",
    "ax.annotate('START', xy=(14.8526, 43.4645), xytext=(14.8526, 43.5), horizontalalignment=\"center\", color='white')\n",
    "\n",
    "plt.imshow(img, vmin=0.25,  interpolation='gaussian', cmap=cmapheat,\n",
    "           extent=[Rg_floor, Rg_ceiling, Dmax_floor, Dmax_ceiling],\n",
    "           aspect=(Rg_ceiling - Rg_floor)/(Dmax_ceiling - Dmax_floor))\n",
    "\n",
    "# to save the plot - need to change name for each construct\n",
    "plt.savefig('plots/FS1.tif', transparent=True)"
   ]
  },
  {
   "cell_type": "markdown",
   "id": "0ca28905",
   "metadata": {},
   "source": [
    "### FS23"
   ]
  },
  {
   "cell_type": "code",
   "execution_count": null,
   "id": "844aca38",
   "metadata": {},
   "outputs": [],
   "source": [
    "import scipy.ndimage as ndimage\n",
    "\n",
    "img = ndimage.gaussian_filter(heatmap, sigma=(2, 2), order=0)\n",
    "\n",
    "fig = plt.figure(figsize=(4,4),dpi=300)\n",
    "ax = plt.gca()\n",
    "\n",
    "cmapheat = plt.cm.tab20b.copy() #colormap we want to use\n",
    "cmapheat.set_under(('#202245')) # set anything under our defined minimum (vmin below) to white\n",
    "\n",
    "# set the font globally\n",
    "plt.rcParams.update({'font.family':'arial'})\n",
    "\n",
    "# Add title - change title for each construct\n",
    "plt.title('FS23', y=1.05, fontweight='bold')\n",
    "\n",
    "# Add axis names\n",
    "plt.xlabel(r'$\\bf{R_{g}}$, Å', fontweight='bold')\n",
    "plt.ylabel(r'$\\bf{D_{max}}$, Å', fontweight='bold')\n",
    "\n",
    "# Add spacing for axis labels\n",
    "spacing = 0.15\n",
    "fig.subplots_adjust(spacing)\n",
    "\n",
    "#Starting point of BilboMD modelling 17.8022\t51.6452\n",
    "ax.scatter([17.8022],[51.6452],s=30, color='pink')\n",
    "ax.annotate('START', xy=(17.8022, 51.6452), xytext=(18.7, 51), horizontalalignment=\"center\", color='pink')\n",
    "\n",
    "# Add BilboMD model's Rg and Dmax dots:\n",
    "\n",
    "# State1 17.8265\t51.2594\n",
    "# change coordinates - it's x then y\n",
    "ax.scatter([17.8265],[51.2594],s=30, color='white')\n",
    "# change text, coordinates and adjust arrow position\n",
    "ax.annotate('State1 73%', xy=(17.8265, 51.2594), xytext=(17.8265, 70), horizontalalignment=\"center\", color='white',\n",
    "            arrowprops=dict(arrowstyle=\"-\", color='white'))\n",
    "\n",
    "# State2 21.4063\t72.0169\n",
    "# change coordinates - it's x then y\n",
    "ax.scatter([21.4063],[72.0169],s=30, color='white')\n",
    "# change text, coordinates and adjust arrow position\n",
    "ax.annotate('State2 10%', xy=(21.4063, 72.0169), xytext=(21.4063, 77), horizontalalignment=\"center\", color='white',\n",
    "            arrowprops=dict(arrowstyle=\"-\", color='white'))\n",
    "\n",
    "# State3 21.6417\t66.0672\n",
    "# change coordinates - it's x then y\n",
    "ax.scatter([21.6417],[66.0672],s=30, color='white')\n",
    "# change text, coordinates and adjust arrow position\n",
    "ax.annotate('State3 17%', xy=(21.6417, 66.0672), xytext=(21.6417, 47), horizontalalignment=\"center\", color='white',\n",
    "            arrowprops=dict(arrowstyle=\"-\", color='white'))\n",
    "\n",
    "plt.imshow(img, vmin=0.25,  interpolation='gaussian', cmap=cmapheat,\n",
    "           extent=[Rg_floor, Rg_ceiling, Dmax_floor, Dmax_ceiling],\n",
    "           aspect=(Rg_ceiling - Rg_floor)/(Dmax_ceiling - Dmax_floor))\n",
    "\n",
    "# to save the plot - need to change name for each construct\n",
    "plt.savefig('plots/FS23.tif', transparent=True)"
   ]
  },
  {
   "cell_type": "markdown",
   "id": "80709b8a",
   "metadata": {},
   "source": [
    "### FS12"
   ]
  },
  {
   "cell_type": "code",
   "execution_count": null,
   "id": "9d21877e",
   "metadata": {},
   "outputs": [],
   "source": [
    "import scipy.ndimage as ndimage\n",
    "\n",
    "img = ndimage.gaussian_filter(heatmap, sigma=(2, 2), order=0)\n",
    "\n",
    "fig = plt.figure(figsize=(4,4),dpi=300)\n",
    "ax = plt.gca()\n",
    "\n",
    "cmapheat = plt.cm.tab20b.copy() #colormap we want to use\n",
    "cmapheat.set_under(('#202245')) # set anything under our defined minimum (vmin below) to white\n",
    "\n",
    "# set the font globally\n",
    "plt.rcParams.update({'font.family':'arial'})\n",
    "\n",
    "# Add title - change title for each construct\n",
    "plt.title('FS12', y=1.05, fontweight='bold')\n",
    "\n",
    "# Add axis names\n",
    "plt.xlabel(r'$\\bf{R_{g}}$, Å', fontweight='bold')\n",
    "plt.ylabel(r'$\\bf{D_{max}}$, Å', fontweight='bold')\n",
    "\n",
    "# Add spacing for axis labels\n",
    "spacing = 0.15\n",
    "fig.subplots_adjust(spacing)\n",
    "\n",
    "# Add BilboMD model's Rg and Dmax dots:\n",
    "\n",
    "# State1 23.9217\t79.066\n",
    "# change coordinates - it's x then y \n",
    "ax.scatter([23.9217],[79.066],s=30, color='white')\n",
    "# change text, coordinates and adjust arrow position\n",
    "ax.annotate('State1 81%', xy=(23.9217, 79.066), xytext=(23.9217, 68), horizontalalignment=\"center\", color='white',\n",
    "            arrowprops=dict(arrowstyle=\"-\", color='white'))\n",
    "\n",
    "# State2 21.5649\t69.6815\n",
    "# change coordinates - it's x then y\n",
    "ax.scatter([21.5649],[69.6815],s=30, color='white')\n",
    "# change text, coordinates and adjust arrow position\n",
    "ax.annotate('State2 19%', xy=(21.5649, 69.6815), xytext=(22, 88), horizontalalignment=\"center\", color='white')\n",
    "\n",
    "#Starting point of BilboMD modelling 22.513\t76.5623\n",
    "ax.scatter([22.513],[76.5623],s=30, color='white')\n",
    "ax.annotate('START', xy=(22.513, 76.5623), xytext=(22.513, 77.3), horizontalalignment=\"center\", color='white')\n",
    "\n",
    "plt.imshow(img, vmin=0.25,  interpolation='gaussian', cmap=cmapheat,\n",
    "           extent=[Rg_floor, Rg_ceiling, Dmax_floor, Dmax_ceiling],\n",
    "           aspect=(Rg_ceiling - Rg_floor)/(Dmax_ceiling - Dmax_floor))\n",
    "\n",
    "# Adds streight vertical line to the State2 annotation label\n",
    "ax.vlines([21.5649], 87.5, 70, colors='white', linewidth=0.9)\n",
    "\n",
    "# to save the plot - need to change name for each construct\n",
    "plt.savefig('plots/FS12.tif', transparent=True)"
   ]
  },
  {
   "cell_type": "markdown",
   "id": "bc7a1ac2",
   "metadata": {},
   "source": [
    "### FS01"
   ]
  },
  {
   "cell_type": "code",
   "execution_count": null,
   "id": "1e1ee87d",
   "metadata": {},
   "outputs": [],
   "source": [
    "import scipy.ndimage as ndimage\n",
    "\n",
    "img = ndimage.gaussian_filter(heatmap, sigma=(2, 2), order=0)\n",
    "\n",
    "fig = plt.figure(figsize=(4,4),dpi=300)\n",
    "ax = plt.gca()\n",
    "\n",
    "cmapheat = plt.cm.tab20b.copy() #colormap we want to use\n",
    "cmapheat.set_under(('#202245')) # set anything under our defined minimum (vmin below) to white\n",
    "\n",
    "# set the font globally\n",
    "plt.rcParams.update({'font.family':'arial'})\n",
    "\n",
    "# Add title - change title for each construct\n",
    "plt.title('FS01', y=1.05, fontweight='bold')\n",
    "\n",
    "# Add axis names\n",
    "plt.xlabel(r'$\\bf{R_{g}}$, Å', fontweight='bold')\n",
    "plt.ylabel(r'$\\bf{D_{max}}$, Å', fontweight='bold')\n",
    "\n",
    "# Add spacing for axis labels\n",
    "spacing = 0.15\n",
    "fig.subplots_adjust(spacing)\n",
    "\n",
    "# Add BilboMD model's Rg and Dmax dots:\n",
    "\n",
    "# State1 22.9091\t67.762\n",
    "# change coordinates - it's x then y \n",
    "ax.scatter([22.9091],[67.762],s=30, color='white')\n",
    "# change text, coordinates and adjust arrow position\n",
    "ax.annotate('State1 93%', xy=(22.9091, 67.762), xytext=(22.9091, 57), horizontalalignment=\"center\", color='white',\n",
    "            arrowprops=dict(arrowstyle=\"-\", color='white'))\n",
    "\n",
    "# State2 21.4457\t59.9681\n",
    "# change coordinates - it's x then y\n",
    "ax.scatter([21.4457],[59.9681],s=30, color='white')\n",
    "# change text, coordinates and adjust arrow position\n",
    "ax.annotate('State2 7%', xy=(21.4457, 59.9681), xytext=(21.4457, 75), horizontalalignment=\"center\", color='white',\n",
    "            arrowprops=dict(arrowstyle=\"-\", color='white'))\n",
    "\n",
    "#Starting point of BilboMD modelling 20.9235\t62.2032\n",
    "ax.scatter([20.9235],[62.2032],s=30, color='white')\n",
    "ax.annotate('START', xy=(20.9235, 62.2032), xytext=(20.2, 61.8), horizontalalignment=\"center\", color='white')\n",
    "\n",
    "plt.imshow(img, vmin=0.25,  interpolation='gaussian', cmap=cmapheat,\n",
    "           extent=[Rg_floor, Rg_ceiling, Dmax_floor, Dmax_ceiling],\n",
    "           aspect=(Rg_ceiling - Rg_floor)/(Dmax_ceiling - Dmax_floor))\n",
    "\n",
    "# to save the plot - need to change name for each construct\n",
    "plt.savefig('plots/FS01.tif', transparent=True)"
   ]
  },
  {
   "cell_type": "markdown",
   "id": "e6c8320e",
   "metadata": {},
   "source": [
    "### FST315"
   ]
  },
  {
   "cell_type": "code",
   "execution_count": null,
   "id": "2adf0aa6",
   "metadata": {},
   "outputs": [],
   "source": [
    "import scipy.ndimage as ndimage\n",
    "\n",
    "img = ndimage.gaussian_filter(heatmap, sigma=(2, 2), order=0)\n",
    "\n",
    "fig = plt.figure(figsize=(4,4),dpi=300)\n",
    "ax = plt.gca()\n",
    "\n",
    "cmapheat = plt.cm.tab20b.copy() #colormap we want to use\n",
    "cmapheat.set_under(('#202245')) # set anything under our defined minimum (vmin below) to white\n",
    "\n",
    "# set the font globally\n",
    "plt.rcParams.update({'font.family':'arial'})\n",
    "\n",
    "# Add title - change title for each construct\n",
    "plt.title('FST315', y=1.05, fontweight='bold')\n",
    "\n",
    "# Add axis names\n",
    "plt.xlabel(r'$\\bf{R_{g}}$, Å', fontweight='bold')\n",
    "plt.ylabel(r'$\\bf{D_{max}}$, Å', fontweight='bold')\n",
    "\n",
    "# Add spacing for axis labels\n",
    "spacing = 0.15\n",
    "fig.subplots_adjust(spacing)\n",
    "\n",
    "# Add BilboMD model's Rg and Dmax dots:\n",
    "\n",
    "# State1 34.7919\t106.756\n",
    "# change coordinates - it's x then y\n",
    "ax.scatter([34.7919],[106.756],s=30, color='white')\n",
    "# change text, coordinates and adjust arrow position\n",
    "ax.annotate('\"Open\" 65%', xy=(34.7919, 106.756), xytext=(34.7919, 80), horizontalalignment=\"center\", color='white',\n",
    "            arrowprops=dict(arrowstyle=\"-\", color='white'))\n",
    "\n",
    "# State2 30.4789\t100.509\n",
    "# change coordinates - it's x then y\n",
    "ax.scatter([30.4789],[100.509],s=30, color='white')\n",
    "# change text, coordinates and adjust arrow position\n",
    "ax.annotate('\"Closed\" 35%', xy=(30.4789, 100.509), xytext=(31.5, 140), horizontalalignment=\"center\", color='white')\n",
    "\n",
    "#Starting point of FTS315 BilboMD modelling 35.2716\t122.716S\n",
    "ax.scatter([35.2716],[122.716],s=30, color='white')\n",
    "ax.annotate('START', xy=(35.2716, 122.716), xytext=(35.2716, 125), horizontalalignment=\"center\", color='white')\n",
    "\n",
    "plt.imshow(img, vmin=0.25,  interpolation='gaussian', cmap=cmapheat,\n",
    "           extent=[Rg_floor, Rg_ceiling, Dmax_floor, Dmax_ceiling],\n",
    "           aspect=(Rg_ceiling - Rg_floor)/(Dmax_ceiling - Dmax_floor))\n",
    "\n",
    "# Adds streight vertical line to the \"Closed\" 35% annotation label\n",
    "ax.vlines([30.4789], 100.509, 138, colors='white', linewidth=0.9)\n",
    "\n",
    "# to save the plot - need to change name for each construct\n",
    "plt.savefig('plots/FST315.tif', transparent=True)"
   ]
  },
  {
   "cell_type": "markdown",
   "id": "6e4d69db",
   "metadata": {},
   "source": [
    "### FST303"
   ]
  },
  {
   "cell_type": "code",
   "execution_count": null,
   "id": "6784f9b4",
   "metadata": {},
   "outputs": [],
   "source": [
    "import scipy.ndimage as ndimage\n",
    "\n",
    "img = ndimage.gaussian_filter(heatmap, sigma=(2, 2), order=0)\n",
    "\n",
    "fig = plt.figure(figsize=(4,4),dpi=300)\n",
    "ax = plt.gca()\n",
    "\n",
    "cmapheat = plt.cm.tab20b.copy() #colormap we want to use\n",
    "cmapheat.set_under(('#202245')) # set anything under our defined minimum (vmin below) to white\n",
    "\n",
    "# set the font globally\n",
    "plt.rcParams.update({'font.family':'arial'})\n",
    "\n",
    "# Add title - change title for each construct\n",
    "plt.title('FST303', y=1.05, fontweight='bold')\n",
    "\n",
    "# Add axis names\n",
    "plt.xlabel(r'$\\bf{R_{g}}$, Å', fontweight='bold')\n",
    "plt.ylabel(r'$\\bf{D_{max}}$, Å', fontweight='bold')\n",
    "\n",
    "# Add spacing for axis labels\n",
    "spacing = 0.15\n",
    "fig.subplots_adjust(spacing)\n",
    "\n",
    "# Add BilboMD model's Rg and Dmax dots:\n",
    "\n",
    "# State1\n",
    "# change coordinates - it's x then y\n",
    "ax.scatter([34.466],[107.017],s=30, color='white')\n",
    "# change text, coordinates and adjust arrow position\n",
    "ax.annotate('\"Open\" 63%', xy=(34.466, 107.017), xytext=(34.466, 80), horizontalalignment=\"center\", color='white',\n",
    "            arrowprops=dict(arrowstyle=\"-\", color='white'))\n",
    "\n",
    "# State2\n",
    "# change coordinates - it's x then y\n",
    "ax.scatter([28.444],[89.0537],s=30, color='white')\n",
    "# change text, coordinates and adjust arrow position\n",
    "ax.annotate('\"Closed\" 37%', xy=(28.444, 89.0537), xytext=(28.444, 120), horizontalalignment=\"center\", color='white',\n",
    "            arrowprops=dict(arrowstyle=\"-\", color='white'))\n",
    "\n",
    "#Starting point of BilboMD modelling 32.6835\t107.651\n",
    "ax.scatter([32.6835],[107.651],s=30, color='white')\n",
    "ax.annotate('START', xy=(32.6835, 107.651), xytext=(32.6835, 110), horizontalalignment=\"center\", color='white')\n",
    "\n",
    "plt.imshow(img, vmin=0.25,  interpolation='gaussian', cmap=cmapheat,\n",
    "           extent=[Rg_floor, Rg_ceiling, Dmax_floor, Dmax_ceiling],\n",
    "           aspect=(Rg_ceiling - Rg_floor)/(Dmax_ceiling - Dmax_floor))\n",
    "\n",
    "# to save the plot - need to change name for each construct\n",
    "plt.savefig('plots/FST303.tif', transparent=True)"
   ]
  },
  {
   "cell_type": "markdown",
   "id": "5c8e675e",
   "metadata": {},
   "source": [
    "### FST288"
   ]
  },
  {
   "cell_type": "code",
   "execution_count": null,
   "id": "f5eacd29",
   "metadata": {},
   "outputs": [],
   "source": [
    "import scipy.ndimage as ndimage\n",
    "\n",
    "img = ndimage.gaussian_filter(heatmap, sigma=(2, 2), order=0)\n",
    "\n",
    "fig = plt.figure(figsize=(4,4),dpi=300)\n",
    "ax = plt.gca()\n",
    "\n",
    "cmapheat = plt.cm.tab20b.copy() #colormap we want to use\n",
    "cmapheat.set_under(('#202245')) # set anything under our defined minimum (vmin below) to white\n",
    "\n",
    "# set the font globally\n",
    "plt.rcParams.update({'font.family':'arial'})\n",
    "\n",
    "# Add title - change title for each construct\n",
    "plt.title('FST288', y=1.05, fontweight='bold')\n",
    "\n",
    "# Add axis names\n",
    "plt.xlabel(r'$\\bf{R_{g}}$, Å', fontweight='bold')\n",
    "plt.ylabel(r'$\\bf{D_{max}}$, Å', fontweight='bold')\n",
    "\n",
    "# Add spacing for axis labels\n",
    "spacing = 0.15\n",
    "fig.subplots_adjust(spacing)\n",
    "\n",
    "# Add BilboMD model's Rg and Dmax dots:\n",
    "\n",
    "# State1 34.8814\t110.714\n",
    "# change coordinates - it's x then y\n",
    "ax.scatter([34.8814],[110.714],s=30, color='white')\n",
    "# change text, coordinates and adjust arrow position\n",
    "ax.annotate('State1 57%', xy=(34.8814, 110.714), xytext=(34.8814, 80), horizontalalignment=\"center\", color='white',\n",
    "            arrowprops=dict(arrowstyle=\"-\", color='white'))\n",
    "\n",
    "# State2 28.4896\t89.6316\n",
    "# change coordinates - it's x then y\n",
    "ax.scatter([28.4896],[89.6316],s=30, color='white')\n",
    "# change text, coordinates and adjust arrow position\n",
    "ax.annotate('State2 43%', xy=(28.4896, 89.6316), xytext=(28.4896, 105), horizontalalignment=\"center\", color='white',\n",
    "            arrowprops=dict(arrowstyle=\"-\", color='white'))\n",
    "\n",
    "#Starting point of BilboMD modelling 31.2958\t89.4564\n",
    "ax.scatter([31.2958],[89.4564],s=30, color='white')\n",
    "ax.annotate('START', xy=(31.2958, 89.4564), xytext=(31.2958, 86), horizontalalignment=\"center\", color='white')\n",
    "\n",
    "plt.imshow(img, vmin=0.25,  interpolation='gaussian', cmap=cmapheat,\n",
    "           extent=[Rg_floor, Rg_ceiling, Dmax_floor, Dmax_ceiling],\n",
    "           aspect=(Rg_ceiling - Rg_floor)/(Dmax_ceiling - Dmax_floor))\n",
    "\n",
    "# to save the plot - need to change name for each construct\n",
    "plt.savefig('plots/FST288.tif', transparent=True)"
   ]
  },
  {
   "cell_type": "markdown",
   "id": "34702721",
   "metadata": {},
   "source": [
    "# Ignore below - it's a more mathsy way of generating heatmaps"
   ]
  },
  {
   "cell_type": "code",
   "execution_count": null,
   "id": "c9c08d0f",
   "metadata": {},
   "outputs": [],
   "source": [
    "plt.hist(img.flatten())"
   ]
  },
  {
   "cell_type": "code",
   "execution_count": null,
   "id": "1dad9656",
   "metadata": {},
   "outputs": [],
   "source": [
    "#cell for generating a figure with no whitespace\n",
    "import scipy.ndimage as ndimage\n",
    "\n",
    "img = ndimage.gaussian_filter(heatmap, sigma=(2, 2), order=0)\n",
    "\n",
    "fig = plt.figure(figsize=(4,4),dpi=300)\n",
    "ax = plt.gca()\n",
    "\n",
    "plt.imshow(img,  interpolation='gaussian', cmap='tab20b',\n",
    "           extent=[Rg_min,Rg_max,Dmax_min,Dmax_max],\n",
    "           aspect=(Rg_max-Rg_min)/(Dmax_max-Dmax_min))\n",
    "plt.axis('off')\n",
    "\n",
    "plt.savefig('example10.tiff', bbox_inches='tight', pad_inches=0)"
   ]
  },
  {
   "cell_type": "markdown",
   "id": "480a82e1",
   "metadata": {},
   "source": [
    "# Heatmap via distance"
   ]
  },
  {
   "cell_type": "code",
   "execution_count": null,
   "id": "2af60789",
   "metadata": {},
   "outputs": [],
   "source": [
    "size = 200\n",
    "heatmap = np.zeros((size,size))\n",
    "\n",
    "Rg_min, Rg_max = np.min(Rg), np.max(Rg)\n",
    "Dmax_min, Dmax_max = np.min(Dmax), np.max(Dmax)\n",
    "\n",
    "distance_fac = 60\n",
    "distance_R = (Rg_max - Rg_min)/distance_fac\n",
    "distance_D = (Dmax_max - Dmax_min)/distance_fac\n",
    "\n",
    "heatmap = np.zeros((size,size))\n",
    "Rgvals = np.linspace(np.floor(Rg_min),np.ceil(Rg_max) , num=size, endpoint=False)\n",
    "Dmaxvals = np.linspace(np.floor(Dmax_min),np.ceil(Dmax_max) , num=size, endpoint=False)"
   ]
  },
  {
   "cell_type": "code",
   "execution_count": null,
   "id": "cecd0752",
   "metadata": {},
   "outputs": [],
   "source": [
    "for x_, Rg_ in enumerate(Rgvals):\n",
    "    for y_, Dmax_ in enumerate(Dmaxvals):\n",
    "    \n",
    "        #Dmax_ = Dmax[i]\n",
    "\n",
    "        #x_ = np.sum(Rg_ > Rgvals)\n",
    "        #y_ = np.sum(Dmax_ > Dmaxvals)\n",
    "\n",
    "        x_min = Rg_ - distance_R\n",
    "        x_max = Rg_ + distance_R\n",
    "        y_min = Dmax_ - distance_D\n",
    "        y_max = Dmax_ + distance_D\n",
    "\n",
    "        num = (Rg > x_min) * (Rg < x_max) * (Dmax > y_min) * (Dmax < y_max)\n",
    "\n",
    "        heatmap[x_,y_] += np.sum(num)\n",
    "\n",
    "    \n",
    "heatmap = np.rot90(heatmap)"
   ]
  },
  {
   "cell_type": "code",
   "execution_count": null,
   "id": "3b8ef7c0",
   "metadata": {},
   "outputs": [],
   "source": [
    "plt.imshow(heatmap,cmap='Greys')"
   ]
  },
  {
   "cell_type": "code",
   "execution_count": null,
   "id": "3d255348",
   "metadata": {},
   "outputs": [],
   "source": [
    "fig = plt.figure(figsize=(4,4),dpi=200)\n",
    "ax = plt.gca()\n",
    "ax.imshow(heatmap,cmap='Greys',extent=[Rg_min,Rg_max,Dmax_min,Dmax_max],aspect=(Rg_max-Rg_min)/(Dmax_max-Dmax_min))\n",
    "plt.savefig('example4.tiff')"
   ]
  },
  {
   "cell_type": "code",
   "execution_count": null,
   "id": "69561810",
   "metadata": {},
   "outputs": [],
   "source": [
    "import scipy.ndimage as ndimage\n",
    "img = ndimage.gaussian_filter(heatmap, sigma=(3, 3), order=0)\n",
    "plt.imshow(img, interpolation='nearest',cmap='tab20b',\n",
    "           extent=[Rg_min,Rg_max,Dmax_min,Dmax_max],\n",
    "           aspect=(Rg_max-Rg_min)/(Dmax_max-Dmax_min))\n",
    "plt.savefig('example8.tiff')"
   ]
  },
  {
   "cell_type": "code",
   "execution_count": null,
   "id": "ddf66c76",
   "metadata": {},
   "outputs": [],
   "source": [
    "plt.plot((Rg > x_min) * (Rg < x_max))"
   ]
  }
 ],
 "metadata": {
  "kernelspec": {
   "display_name": "py3",
   "language": "python",
   "name": "py3"
  },
  "language_info": {
   "codemirror_mode": {
    "name": "ipython",
    "version": 3
   },
   "file_extension": ".py",
   "mimetype": "text/x-python",
   "name": "python",
   "nbconvert_exporter": "python",
   "pygments_lexer": "ipython3",
   "version": "3.9.13"
  }
 },
 "nbformat": 4,
 "nbformat_minor": 5
}
