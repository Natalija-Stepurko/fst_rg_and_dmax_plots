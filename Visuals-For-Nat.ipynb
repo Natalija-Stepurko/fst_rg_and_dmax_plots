{
 "cells": [
  {
   "cell_type": "markdown",
   "id": "9473b3b1",
   "metadata": {},
   "source": [
    "# Importing modules"
   ]
  },
  {
   "cell_type": "code",
   "execution_count": null,
   "id": "456cfa8f",
   "metadata": {},
   "outputs": [],
   "source": [
    "%matplotlib qt5\n",
    "import numpy as np\n",
    "import matplotlib.pyplot as plt\n",
    "import csv\n",
    "import pandas as pd"
   ]
  },
  {
   "cell_type": "markdown",
   "id": "9cf3abe9",
   "metadata": {},
   "source": [
    "# Creating array from .out"
   ]
  },
  {
   "cell_type": "markdown",
   "id": "0945bab5",
   "metadata": {},
   "source": [
    "## A cell for each construct - execute only the relevant one"
   ]
  },
  {
   "cell_type": "markdown",
   "id": "55a38b99",
   "metadata": {},
   "source": [
    "### His-FS3"
   ]
  },
  {
   "cell_type": "code",
   "execution_count": null,
   "id": "396d9e3a",
   "metadata": {},
   "outputs": [],
   "source": [
    "# Convert .out file to .csv and then convert it into a list\n",
    "out = pd.read_csv('foxs/HisFS3foxs_rg_dmax.out', sep='\\s+')\n",
    "out.to_csv('csvs/HisFS3foxs_rg_dmax.csv', index=False)\n",
    "reader = csv.reader(open(\"csvs/HisFS3foxs_rg_dmax.csv\", \"r\"), delimiter=\",\")\n",
    "x = list(reader)"
   ]
  },
  {
   "cell_type": "markdown",
   "id": "827420ed",
   "metadata": {},
   "source": [
    "### FS2"
   ]
  },
  {
   "cell_type": "code",
   "execution_count": null,
   "id": "2817ddec",
   "metadata": {},
   "outputs": [],
   "source": [
    "# Convert .out file to .csv and then convert it into a list\n",
    "out = pd.read_csv('foxs/FS2foxs_rg_dmax.out', sep='\\s+')\n",
    "out.to_csv('csvs/FS2foxs_rg_dmax.csv', index=False)\n",
    "reader = csv.reader(open(\"csvs/FS2foxs_rg_dmax.csv\", \"r\"), delimiter=\",\")\n",
    "x = list(reader)"
   ]
  },
  {
   "cell_type": "markdown",
   "id": "bbf4c254",
   "metadata": {},
   "source": [
    "### FS1"
   ]
  },
  {
   "cell_type": "code",
   "execution_count": null,
   "id": "6211552b",
   "metadata": {},
   "outputs": [],
   "source": [
    "# Convert .out file to .csv and then convert it into a list\n",
    "out = pd.read_csv('foxs/FS1foxs_rg_dmax.out', sep='\\s+')\n",
    "out.to_csv('csvs/FS1foxs_rg_dmax.csv', index=False)\n",
    "reader = csv.reader(open(\"csvs/FS1foxs_rg_dmax.csv\", \"r\"), delimiter=\",\")\n",
    "x = list(reader)"
   ]
  },
  {
   "cell_type": "markdown",
   "id": "5522456f",
   "metadata": {},
   "source": [
    "### FS23"
   ]
  },
  {
   "cell_type": "code",
   "execution_count": null,
   "id": "6cd69143",
   "metadata": {},
   "outputs": [],
   "source": [
    "# Convert .out file to .csv and then convert it into a list\n",
    "out = pd.read_csv('foxs/FS23foxs_rg_dmax.out', sep='\\s+')\n",
    "out.to_csv('csvs/FS23foxs_rg_dmax.csv', index=False)\n",
    "reader = csv.reader(open(\"csvs/FS23foxs_rg_dmax.csv\", \"r\"), delimiter=\",\")\n",
    "x = list(reader)"
   ]
  },
  {
   "cell_type": "markdown",
   "id": "7de4857f",
   "metadata": {},
   "source": [
    "### FS12"
   ]
  },
  {
   "cell_type": "code",
   "execution_count": null,
   "id": "f8e2e0da",
   "metadata": {},
   "outputs": [],
   "source": [
    "# Convert .out file to .csv and then convert it into a list\n",
    "out = pd.read_csv('foxs/FS12foxs_rg_dmax.out', sep='\\s+')\n",
    "out.to_csv('csvs/FS12foxs_rg_dmax.csv', index=False)\n",
    "reader = csv.reader(open(\"csvs/FS12foxs_rg_dmax.csv\", \"r\"), delimiter=\",\")\n",
    "x = list(reader)"
   ]
  },
  {
   "cell_type": "markdown",
   "id": "5b382f53",
   "metadata": {},
   "source": [
    "### FS01"
   ]
  },
  {
   "cell_type": "code",
   "execution_count": null,
   "id": "3902789d",
   "metadata": {},
   "outputs": [],
   "source": [
    "# Convert .out file to .csv and then convert it into a list\n",
    "out = pd.read_csv('foxs/FS01foxs_rg_dmax.out', sep='\\s+')\n",
    "out.to_csv('csvs/FS01foxs_rg_dmax.csv', index=False)\n",
    "reader = csv.reader(open(\"csvs/FS01foxs_rg_dmax.csv\", \"r\"), delimiter=\",\")\n",
    "x = list(reader)"
   ]
  },
  {
   "cell_type": "markdown",
   "id": "13f3d64a",
   "metadata": {},
   "source": [
    "### FST315"
   ]
  },
  {
   "cell_type": "code",
   "execution_count": null,
   "id": "f7b56f5d",
   "metadata": {},
   "outputs": [],
   "source": [
    "# Convert .out file to .csv and then convert it into a list\n",
    "out = pd.read_csv('foxs/FST315foxs_rg_dmax.out', sep='\\s+')\n",
    "out.to_csv('csvs/FST315foxs_rg_dmax.csv', index=False)\n",
    "reader = csv.reader(open(\"csvs/FST315foxs_rg_dmax.csv\", \"r\"), delimiter=\",\")\n",
    "x = list(reader)"
   ]
  },
  {
   "cell_type": "markdown",
   "id": "f3522723",
   "metadata": {},
   "source": [
    "### FST303"
   ]
  },
  {
   "cell_type": "code",
   "execution_count": null,
   "id": "778c1da1",
   "metadata": {},
   "outputs": [],
   "source": [
    "# Convert .out file to .csv and then convert it into a list\n",
    "out = pd.read_csv('foxs/FST303foxs_rg_dmax.out', sep='\\s+')\n",
    "out.to_csv('csvs/FST303foxs_rg_dmax.csv', index=False)\n",
    "reader = csv.reader(open(\"csvs/FST303foxs_rg_dmax.csv\", \"r\"), delimiter=\",\")\n",
    "x = list(reader)"
   ]
  },
  {
   "cell_type": "markdown",
   "id": "eb961182",
   "metadata": {},
   "source": [
    "### FST288"
   ]
  },
  {
   "cell_type": "code",
   "execution_count": null,
   "id": "59719a81",
   "metadata": {},
   "outputs": [],
   "source": [
    "# Convert .out file to .csv and then convert it into a list\n",
    "out = pd.read_csv('foxs/FST288foxs_rg_dmax.out', sep='\\s+')\n",
    "out.to_csv('csvs/FST288foxs_rg_dmax.csv', index=False)\n",
    "reader = csv.reader(open(\"csvs/FST288foxs_rg_dmax.csv\", \"r\"), delimiter=\",\")\n",
    "x = list(reader)\n",
    "# print(x)"
   ]
  },
  {
   "cell_type": "markdown",
   "id": "7b75aa7c",
   "metadata": {},
   "source": [
    "## Execute the below cells for all constructs"
   ]
  },
  {
   "cell_type": "code",
   "execution_count": null,
   "id": "c347d472",
   "metadata": {},
   "outputs": [],
   "source": [
    "# convert list x into an array\n",
    "data_array = np.array(x)\n",
    "# print(data_array)"
   ]
  },
  {
   "cell_type": "code",
   "execution_count": null,
   "id": "3c13775f",
   "metadata": {},
   "outputs": [],
   "source": [
    "#cut one missing row #run multiple times if multiple empty lines - I think I no longer need it, because of using pandas for csv generation\n",
    "while '' in data_array:\n",
    "    line = np.where(data_array == '')\n",
    "    data_array = np.delete(data_array, line[0][0],axis=0)\n",
    "# print(data_array)"
   ]
  },
  {
   "cell_type": "code",
   "execution_count": null,
   "id": "9f6a31b2",
   "metadata": {},
   "outputs": [],
   "source": [
    "Rg = data_array[1:,1].astype('float')\n",
    "Dmax = data_array[1:,2].astype('float')"
   ]
  },
  {
   "cell_type": "code",
   "execution_count": null,
   "id": "9178b1ee",
   "metadata": {},
   "outputs": [],
   "source": [
    "plt.scatter(Rg,Dmax,c='k',marker='+')"
   ]
  },
  {
   "cell_type": "markdown",
   "id": "13587624",
   "metadata": {},
   "source": [
    "# Generating Heatmaps"
   ]
  },
  {
   "cell_type": "code",
   "execution_count": null,
   "id": "302f6f4c",
   "metadata": {},
   "outputs": [],
   "source": [
    "size = 100\n",
    "\n",
    "Rg_min, Rg_max = np.min(Rg), np.max(Rg)\n",
    "Rg_floor, Rg_ceiling = np.floor(Rg_min), np.ceil(Rg_max)\n",
    "\n",
    "Dmax_min, Dmax_max = np.min(Dmax), np.max(Dmax)\n",
    "Dmax_floor, Dmax_ceiling = np.floor(Dmax_min), np.ceil(Dmax_max)\n",
    "\n",
    "heatmap = np.zeros(shape=(size,size))\n",
    "Rgvals = np.linspace(Rg_floor, Rg_ceiling , num=size, endpoint=False)\n",
    "Dmaxvals = np.linspace(Dmax_floor, Dmax_ceiling , num=size, endpoint=False)"
   ]
  },
  {
   "cell_type": "markdown",
   "id": "28ee79c6",
   "metadata": {},
   "source": [
    "### Temp workaround for FS1, FS2 and His-FS3 (Do not execute below cell for other constructs)"
   ]
  },
  {
   "cell_type": "code",
   "execution_count": null,
   "id": "ea61d5c1",
   "metadata": {},
   "outputs": [],
   "source": [
    "#temp workaround for FS1 (Do not execute this cell for other constructs)\n",
    "\n",
    "size = 100\n",
    "\n",
    "Rg_min, Rg_max = np.min(Rg), np.max(Rg)\n",
    "Rg_floor, Rg_ceiling = Rg_min-0.005, Rg_max+0.005\n",
    "\n",
    "Dmax_min, Dmax_max = np.min(Dmax), np.max(Dmax)\n",
    "Dmax_floor, Dmax_ceiling = Dmax_min-0.1, Dmax_max+0.1\n",
    "\n",
    "heatmap = np.zeros((size,size))\n",
    "Rgvals = np.linspace(Rg_floor, Rg_ceiling , num=size, endpoint=False)\n",
    "Dmaxvals = np.linspace(Dmax_floor, Dmax_ceiling , num=size, endpoint=False)\n",
    "# Dmaxvals\n",
    "# Rgvals"
   ]
  },
  {
   "cell_type": "code",
   "execution_count": null,
   "id": "694e270e",
   "metadata": {},
   "outputs": [],
   "source": [
    "#temp workaround for FS2 (Do not execute this cell for other constructs)\n",
    "\n",
    "size = 100\n",
    "\n",
    "Rg_min, Rg_max = np.min(Rg), np.max(Rg)\n",
    "Rg_floor, Rg_ceiling = Rg_min-0.005, Rg_max+0.005\n",
    "\n",
    "Dmax_min, Dmax_max = np.min(Dmax), np.max(Dmax)\n",
    "Dmax_floor, Dmax_ceiling = Dmax_min-0.5, Dmax_max+0.5\n",
    "\n",
    "heatmap = np.zeros((size,size))\n",
    "Rgvals = np.linspace(Rg_floor, Rg_ceiling , num=size, endpoint=False)\n",
    "Dmaxvals = np.linspace(Dmax_floor, Dmax_ceiling , num=size, endpoint=False)\n",
    "# Dmaxvals\n",
    "# Rgvals"
   ]
  },
  {
   "cell_type": "code",
   "execution_count": null,
   "id": "cee0abb8",
   "metadata": {},
   "outputs": [],
   "source": [
    "#temp workaround for FS3 (Do not execute this cell for other constructs)\n",
    "\n",
    "size = 100\n",
    "\n",
    "Rg_min, Rg_max = np.min(Rg), np.max(Rg)\n",
    "Rg_floor, Rg_ceiling = Rg_min-0.001, Rg_max+0.001\n",
    "\n",
    "Dmax_min, Dmax_max = np.min(Dmax), np.max(Dmax)\n",
    "Dmax_floor, Dmax_ceiling = Dmax_min-3, Dmax_max+1\n",
    "\n",
    "heatmap = np.zeros((size,size))\n",
    "Rgvals = np.linspace(Rg_floor, Rg_ceiling , num=size, endpoint=False)\n",
    "Dmaxvals = np.linspace(Dmax_floor, Dmax_ceiling , num=size, endpoint=False)\n",
    "# Dmaxvals\n",
    "# Rgvals"
   ]
  },
  {
   "cell_type": "code",
   "execution_count": null,
   "id": "efa36f9b",
   "metadata": {},
   "outputs": [],
   "source": [
    "for i, Rg_ in enumerate(Rg):\n",
    "    \n",
    "    Dmax_ = Dmax[i]\n",
    "    \n",
    "    x_ = np.sum(Rg_ > Rgvals)\n",
    "    y_ = np.sum(Dmax_ > Dmaxvals)\n",
    "    \n",
    "    heatmap[x_-1,y_-1] += 1\n",
    "    \n",
    "heatmap = np.rot90(heatmap)"
   ]
  },
  {
   "cell_type": "code",
   "execution_count": null,
   "id": "885c58b2",
   "metadata": {},
   "outputs": [],
   "source": [
    "#fig = plt.figure(figsize=(3,3),dpi=200)\n",
    "#ax = plt.gca()\n",
    "\n",
    "plt.imshow(heatmap,\n",
    "           cmap='Greys',\n",
    "           extent=[Rg_floor, Rg_ceiling, Dmax_floor, Dmax_ceiling],\n",
    "           aspect=(Rg_ceiling - Rg_floor)/(Dmax_ceiling - Dmax_floor))\n",
    "#plt.savefig('example1.tiff')\n",
    "\n",
    "# ax.imshow(img, vmin=0.25,  interpolation='gaussian', cmap=cmapheat,\n",
    "#            extent=[Rg_floor, Rg_ceiling, Dmax_floor, Dmax_ceiling],\n",
    "#            aspect=(Rg_ceiling - Rg_floor)/(Dmax_ceiling - Dmax_floor))"
   ]
  },
  {
   "cell_type": "markdown",
   "id": "bf95f36c",
   "metadata": {},
   "source": [
    "## A cell for each construct - execute only the relevant one"
   ]
  },
  {
   "cell_type": "markdown",
   "id": "5f5532c9",
   "metadata": {},
   "source": [
    "### HisFS3"
   ]
  },
  {
   "cell_type": "code",
   "execution_count": null,
   "id": "e76be80e",
   "metadata": {},
   "outputs": [],
   "source": [
    "import scipy.ndimage as ndimage\n",
    "\n",
    "img = ndimage.gaussian_filter(heatmap, sigma=(2, 2), order=0)\n",
    "\n",
    "fig = plt.figure(figsize=(4,4),dpi=300)\n",
    "ax = plt.gca()\n",
    "\n",
    "cmapheat = plt.cm.tab20b.copy() #colormap we want to use\n",
    "cmapheat.set_under(('#202245')) # set anything under our defined minimum (vmin below) to white\n",
    "\n",
    "# set the font globally\n",
    "plt.rcParams.update({'font.family':'arial'})\n",
    "\n",
    "# Add title - change title for each construct\n",
    "plt.title('His-FS3', y=1.05, fontweight='bold')\n",
    "\n",
    "# Add axis names\n",
    "plt.xlabel(r'$\\bf{R_{g}}$, Å', fontweight='bold')\n",
    "plt.ylabel(r'$\\bf{D_{max}}$, Å', fontweight='bold')\n",
    "\n",
    "# Add spacing for axis labels\n",
    "spacing = 0.15\n",
    "fig.subplots_adjust(spacing)\n",
    "\n",
    "# Add BilboMD model's Rg and Dmax dots:\n",
    "\n",
    "# State1 15.348\t55.6808\n",
    "# change coordinates - it's x then y\n",
    "ax.scatter([15.348],[55.6808],s=30, color='white')\n",
    "# change text, coordinates and adjust arrow position\n",
    "ax.annotate('State1', xy=(15.348, 55.6808), xytext=(15.348, 69), horizontalalignment=\"center\", color='white',\n",
    "            arrowprops=dict(arrowstyle=\"-\", color='white'))\n",
    "\n",
    "#Starting point of BilboMD modelling 15.2559\t46.4518\n",
    "ax.scatter([15.2559],[46.4518],s=30, color='white')\n",
    "ax.annotate('START', xy=(15.2559, 46.4518), xytext=(15.8, 46), horizontalalignment=\"center\", color='white')\n",
    "\n",
    "plt.imshow(img, vmin=0.25,  interpolation='gaussian', cmap=cmapheat,\n",
    "           extent=[Rg_floor, Rg_ceiling, Dmax_floor, Dmax_ceiling],\n",
    "           aspect=(Rg_ceiling - Rg_floor)/(Dmax_ceiling - Dmax_floor))\n",
    "\n",
    "# to save the plot - need to change name for each construct\n",
    "plt.savefig('plots/HisFS3.tif', transparent=True)"
   ]
  },
  {
   "cell_type": "markdown",
   "id": "09c222df",
   "metadata": {},
   "source": [
    "### FS2"
   ]
  },
  {
   "cell_type": "code",
   "execution_count": null,
   "id": "874e80ce",
   "metadata": {},
   "outputs": [],
   "source": [
    "import scipy.ndimage as ndimage\n",
    "\n",
    "img = ndimage.gaussian_filter(heatmap, sigma=(2, 2), order=0)\n",
    "\n",
    "fig = plt.figure(figsize=(4,4),dpi=300)\n",
    "ax = plt.gca()\n",
    "\n",
    "cmapheat = plt.cm.tab20b.copy() #colormap we want to use\n",
    "cmapheat.set_under(('#202245')) # set anything under our defined minimum (vmin below) to white\n",
    "\n",
    "# set the font globally\n",
    "plt.rcParams.update({'font.family':'arial'})\n",
    "\n",
    "# Add title - change title for each construct\n",
    "plt.title('FS2', y=1.05, fontweight='bold')\n",
    "\n",
    "# Add axis names\n",
    "plt.xlabel(r'$\\bf{R_{g}}$, Å', fontweight='bold')\n",
    "plt.ylabel(r'$\\bf{D_{max}}$, Å', fontweight='bold')\n",
    "\n",
    "# Add spacing for axis labels\n",
    "spacing = 0.15\n",
    "fig.subplots_adjust(spacing)\n",
    "\n",
    "# Add BilboMD model's Rg and Dmax dots:\n",
    "\n",
    "# State1 14.4168\t43.3915\n",
    "# change coordinates - it's x then y\n",
    "ax.scatter([14.4168],[43.3915],s=30, color='white')\n",
    "# change text, coordinates and adjust arrow position\n",
    "ax.annotate('State1', xy=(14.4168, 43.3915), xytext=(14.4168, 45), horizontalalignment=\"center\", color='white',\n",
    "            arrowprops=dict(arrowstyle=\"-\", color='white'))\n",
    "\n",
    "#Starting point of BilboMD modelling 14.3293\t41.4614\n",
    "ax.scatter([14.3293],[41.4614],s=30, color='white')\n",
    "ax.annotate('START', xy=(14.3293, 41.4614), xytext=(14.37, 41.35), horizontalalignment=\"center\", color='white')\n",
    "\n",
    "plt.imshow(img, vmin=0.25,  interpolation='gaussian', cmap=cmapheat,\n",
    "           extent=[Rg_floor, Rg_ceiling, Dmax_floor, Dmax_ceiling],\n",
    "           aspect=(Rg_ceiling - Rg_floor)/(Dmax_ceiling - Dmax_floor))\n",
    "\n",
    "# to save the plot - need to change name for each construct\n",
    "plt.savefig('plots/FS2.tif', transparent=True)"
   ]
  },
  {
   "cell_type": "markdown",
   "id": "d61bb4cf",
   "metadata": {},
   "source": [
    "### FS1"
   ]
  },
  {
   "cell_type": "code",
   "execution_count": null,
   "id": "0f4968e6",
   "metadata": {},
   "outputs": [],
   "source": [
    "import scipy.ndimage as ndimage\n",
    "\n",
    "img = ndimage.gaussian_filter(heatmap, sigma=(2, 2), order=0)\n",
    "\n",
    "fig = plt.figure(figsize=(4,4),dpi=300)\n",
    "ax = plt.gca()\n",
    "\n",
    "cmapheat = plt.cm.tab20b.copy() #colormap we want to use\n",
    "cmapheat.set_under(('#202245')) # set anything under our defined minimum (vmin below) to white\n",
    "\n",
    "# set the font globally\n",
    "plt.rcParams.update({'font.family':'arial'})\n",
    "\n",
    "# Add title - change title for each construct\n",
    "plt.title('FS1', y=1.05, fontweight='bold')\n",
    "\n",
    "# Add axis names\n",
    "plt.xlabel(r'$\\bf{R_{g}}$, Å', fontweight='bold')\n",
    "plt.ylabel(r'$\\bf{D_{max}}$, Å', fontweight='bold')\n",
    "\n",
    "# Add spacing for axis labels\n",
    "spacing = 0.15\n",
    "fig.subplots_adjust(spacing)\n",
    "\n",
    "# Add BilboMD model's Rg and Dmax dots:\n",
    "\n",
    "# State1 14.8552\t43.4703\n",
    "# change coordinates - it's x then y\n",
    "ax.scatter([14.8552],[43.4703],s=30, color='white')\n",
    "# change text, coordinates and adjust arrow position\n",
    "ax.annotate('State1', xy=(14.8552, 43.4703), xytext=(14.8552, 44.1), horizontalalignment=\"center\", color='white',\n",
    "            arrowprops=dict(arrowstyle=\"-\", color='white'))\n",
    "\n",
    "#Starting point of BilboMD modelling 14.8526\t43.4645\n",
    "ax.scatter([14.8526],[43.4645],s=30, color='white')\n",
    "ax.annotate('START', xy=(14.8526, 43.4645), xytext=(14.8475, 43.45), horizontalalignment=\"center\", color='white')\n",
    "\n",
    "plt.imshow(img, vmin=0.25,  interpolation='gaussian', cmap=cmapheat,\n",
    "           extent=[Rg_floor, Rg_ceiling, Dmax_floor, Dmax_ceiling],\n",
    "           aspect=(Rg_ceiling - Rg_floor)/(Dmax_ceiling - Dmax_floor))\n",
    "\n",
    "# to save the plot - need to change name for each construct\n",
    "plt.savefig('plots/FS1.tif', transparent=True)"
   ]
  },
  {
   "cell_type": "markdown",
   "id": "e56885b8",
   "metadata": {},
   "source": [
    "### FS23"
   ]
  },
  {
   "cell_type": "code",
   "execution_count": null,
   "id": "befe927d",
   "metadata": {},
   "outputs": [],
   "source": [
    "import scipy.ndimage as ndimage\n",
    "\n",
    "img = ndimage.gaussian_filter(heatmap, sigma=(2, 2), order=0)\n",
    "\n",
    "fig = plt.figure(figsize=(4,4),dpi=300)\n",
    "ax = plt.gca()\n",
    "\n",
    "cmapheat = plt.cm.tab20b.copy() #colormap we want to use\n",
    "cmapheat.set_under(('#202245')) # set anything under our defined minimum (vmin below) to white\n",
    "\n",
    "# set the font globally\n",
    "plt.rcParams.update({'font.family':'arial'})\n",
    "\n",
    "# Add title - change title for each construct\n",
    "plt.title('FS23', y=1.05, fontweight='bold')\n",
    "\n",
    "# Add axis names\n",
    "plt.xlabel(r'$\\bf{R_{g}}$, Å', fontweight='bold')\n",
    "plt.ylabel(r'$\\bf{D_{max}}$, Å', fontweight='bold')\n",
    "\n",
    "# Add spacing for axis labels\n",
    "spacing = 0.15\n",
    "fig.subplots_adjust(spacing)\n",
    "\n",
    "#Starting point of BilboMD modelling 17.8022\t51.6452\n",
    "ax.scatter([17.8022],[51.6452],s=30, color='pink')\n",
    "ax.annotate('START', xy=(17.8022, 51.6452), xytext=(18.7, 51), horizontalalignment=\"center\", color='pink')\n",
    "\n",
    "# Add BilboMD model's Rg and Dmax dots:\n",
    "\n",
    "# State1 17.8265\t51.2594\n",
    "# change coordinates - it's x then y\n",
    "ax.scatter([17.8265],[51.2594],s=30, color='white')\n",
    "# change text, coordinates and adjust arrow position\n",
    "ax.annotate('State1 73%', xy=(17.8265, 51.2594), xytext=(17.8265, 70), horizontalalignment=\"center\", color='white',\n",
    "            arrowprops=dict(arrowstyle=\"-\", color='white'))\n",
    "\n",
    "# State2 21.4063\t72.0169\n",
    "# change coordinates - it's x then y\n",
    "ax.scatter([21.4063],[72.0169],s=30, color='white')\n",
    "# change text, coordinates and adjust arrow position\n",
    "ax.annotate('State2 10%', xy=(21.4063, 72.0169), xytext=(21.4063, 77), horizontalalignment=\"center\", color='white',\n",
    "            arrowprops=dict(arrowstyle=\"-\", color='white'))\n",
    "\n",
    "# State3 21.6417\t66.0672\n",
    "# change coordinates - it's x then y\n",
    "ax.scatter([21.6417],[66.0672],s=30, color='white')\n",
    "# change text, coordinates and adjust arrow position\n",
    "ax.annotate('State3 17%', xy=(21.6417, 66.0672), xytext=(21.6417, 47), horizontalalignment=\"center\", color='white',\n",
    "            arrowprops=dict(arrowstyle=\"-\", color='white'))\n",
    "\n",
    "plt.imshow(img, vmin=0.25,  interpolation='gaussian', cmap=cmapheat,\n",
    "           extent=[Rg_floor, Rg_ceiling, Dmax_floor, Dmax_ceiling],\n",
    "           aspect=(Rg_ceiling - Rg_floor)/(Dmax_ceiling - Dmax_floor))\n",
    "\n",
    "# to save the plot - need to change name for each construct\n",
    "plt.savefig('plots/FS23.tif', transparent=True)"
   ]
  },
  {
   "cell_type": "markdown",
   "id": "a4eec2a0",
   "metadata": {},
   "source": [
    "### FS12"
   ]
  },
  {
   "cell_type": "code",
   "execution_count": null,
   "id": "1adba39f",
   "metadata": {},
   "outputs": [],
   "source": [
    "import scipy.ndimage as ndimage\n",
    "\n",
    "img = ndimage.gaussian_filter(heatmap, sigma=(2, 2), order=0)\n",
    "\n",
    "fig = plt.figure(figsize=(4,4),dpi=300)\n",
    "ax = plt.gca()\n",
    "\n",
    "cmapheat = plt.cm.tab20b.copy() #colormap we want to use\n",
    "cmapheat.set_under(('#202245')) # set anything under our defined minimum (vmin below) to white\n",
    "\n",
    "# set the font globally\n",
    "plt.rcParams.update({'font.family':'arial'})\n",
    "\n",
    "# Add title - change title for each construct\n",
    "plt.title('FS12', y=1.05, fontweight='bold')\n",
    "\n",
    "# Add axis names\n",
    "plt.xlabel(r'$\\bf{R_{g}}$, Å', fontweight='bold')\n",
    "plt.ylabel(r'$\\bf{D_{max}}$, Å', fontweight='bold')\n",
    "\n",
    "# Add spacing for axis labels\n",
    "spacing = 0.15\n",
    "fig.subplots_adjust(spacing)\n",
    "\n",
    "# Add BilboMD model's Rg and Dmax dots:\n",
    "\n",
    "# State1 23.9217\t79.066\n",
    "# change coordinates - it's x then y \n",
    "ax.scatter([23.9217],[79.066],s=30, color='white')\n",
    "# change text, coordinates and adjust arrow position\n",
    "ax.annotate('State1 81%', xy=(23.9217, 79.066), xytext=(23.9217, 68), horizontalalignment=\"center\", color='white',\n",
    "            arrowprops=dict(arrowstyle=\"-\", color='white'))\n",
    "\n",
    "# State2 21.5649\t69.6815\n",
    "# change coordinates - it's x then y\n",
    "ax.scatter([21.5649],[69.6815],s=30, color='white')\n",
    "# change text, coordinates and adjust arrow position\n",
    "ax.annotate('State2 19%', xy=(21.5649, 69.6815), xytext=(22, 88), horizontalalignment=\"center\", color='white')\n",
    "\n",
    "#Starting point of BilboMD modelling 22.513\t76.5623\n",
    "ax.scatter([22.513],[76.5623],s=30, color='white')\n",
    "ax.annotate('START', xy=(22.513, 76.5623), xytext=(22.513, 77.3), horizontalalignment=\"center\", color='white')\n",
    "\n",
    "plt.imshow(img, vmin=0.25,  interpolation='gaussian', cmap=cmapheat,\n",
    "           extent=[Rg_floor, Rg_ceiling, Dmax_floor, Dmax_ceiling],\n",
    "           aspect=(Rg_ceiling - Rg_floor)/(Dmax_ceiling - Dmax_floor))\n",
    "\n",
    "# Adds streight vertical line to the State2 annotation label\n",
    "ax.vlines([21.5649], 87.5, 70, colors='white', linewidth=0.9)\n",
    "\n",
    "# to save the plot - need to change name for each construct\n",
    "plt.savefig('plots/FS12.tif', transparent=True)"
   ]
  },
  {
   "cell_type": "markdown",
   "id": "e25b659e",
   "metadata": {},
   "source": [
    "### FS01"
   ]
  },
  {
   "cell_type": "code",
   "execution_count": null,
   "id": "be647736",
   "metadata": {},
   "outputs": [],
   "source": [
    "import scipy.ndimage as ndimage\n",
    "\n",
    "img = ndimage.gaussian_filter(heatmap, sigma=(2, 2), order=0)\n",
    "\n",
    "fig = plt.figure(figsize=(4,4),dpi=300)\n",
    "ax = plt.gca()\n",
    "\n",
    "cmapheat = plt.cm.tab20b.copy() #colormap we want to use\n",
    "cmapheat.set_under(('#202245')) # set anything under our defined minimum (vmin below) to white\n",
    "\n",
    "# set the font globally\n",
    "plt.rcParams.update({'font.family':'arial'})\n",
    "\n",
    "# Add title - change title for each construct\n",
    "plt.title('FS01', y=1.05, fontweight='bold')\n",
    "\n",
    "# Add axis names\n",
    "plt.xlabel(r'$\\bf{R_{g}}$, Å', fontweight='bold')\n",
    "plt.ylabel(r'$\\bf{D_{max}}$, Å', fontweight='bold')\n",
    "\n",
    "# Add spacing for axis labels\n",
    "spacing = 0.15\n",
    "fig.subplots_adjust(spacing)\n",
    "\n",
    "# Add BilboMD model's Rg and Dmax dots:\n",
    "\n",
    "# State1 22.9091\t67.762\n",
    "# change coordinates - it's x then y \n",
    "ax.scatter([22.9091],[67.762],s=30, color='white')\n",
    "# change text, coordinates and adjust arrow position\n",
    "ax.annotate('State1 93%', xy=(22.9091, 67.762), xytext=(22.9091, 57), horizontalalignment=\"center\", color='white',\n",
    "            arrowprops=dict(arrowstyle=\"-\", color='white'))\n",
    "\n",
    "# State2 21.4457\t59.9681\n",
    "# change coordinates - it's x then y\n",
    "ax.scatter([21.4457],[59.9681],s=30, color='white')\n",
    "# change text, coordinates and adjust arrow position\n",
    "ax.annotate('State2 7%', xy=(21.4457, 59.9681), xytext=(21.4457, 75), horizontalalignment=\"center\", color='white',\n",
    "            arrowprops=dict(arrowstyle=\"-\", color='white'))\n",
    "\n",
    "#Starting point of BilboMD modelling 20.9235\t62.2032\n",
    "ax.scatter([20.9235],[62.2032],s=30, color='white')\n",
    "ax.annotate('START', xy=(20.9235, 62.2032), xytext=(20.2, 61.8), horizontalalignment=\"center\", color='white')\n",
    "\n",
    "plt.imshow(img, vmin=0.25,  interpolation='gaussian', cmap=cmapheat,\n",
    "           extent=[Rg_floor, Rg_ceiling, Dmax_floor, Dmax_ceiling],\n",
    "           aspect=(Rg_ceiling - Rg_floor)/(Dmax_ceiling - Dmax_floor))\n",
    "\n",
    "# to save the plot - need to change name for each construct\n",
    "plt.savefig('plots/FS01.tif', transparent=True)"
   ]
  },
  {
   "cell_type": "markdown",
   "id": "34cec8a1",
   "metadata": {},
   "source": [
    "### FST315"
   ]
  },
  {
   "cell_type": "code",
   "execution_count": null,
   "id": "3ec0f5d4",
   "metadata": {},
   "outputs": [],
   "source": [
    "import scipy.ndimage as ndimage\n",
    "\n",
    "img = ndimage.gaussian_filter(heatmap, sigma=(2, 2), order=0)\n",
    "\n",
    "fig = plt.figure(figsize=(4,4),dpi=300)\n",
    "ax = plt.gca()\n",
    "\n",
    "cmapheat = plt.cm.tab20b.copy() #colormap we want to use\n",
    "cmapheat.set_under(('#202245')) # set anything under our defined minimum (vmin below) to white\n",
    "\n",
    "# set the font globally\n",
    "plt.rcParams.update({'font.family':'arial'})\n",
    "\n",
    "# Add title - change title for each construct\n",
    "plt.title('FST315', y=1.05, fontweight='bold')\n",
    "\n",
    "# Add axis names\n",
    "plt.xlabel(r'$\\bf{R_{g}}$, Å', fontweight='bold')\n",
    "plt.ylabel(r'$\\bf{D_{max}}$, Å', fontweight='bold')\n",
    "\n",
    "# Add spacing for axis labels\n",
    "spacing = 0.15\n",
    "fig.subplots_adjust(spacing)\n",
    "\n",
    "# Add BilboMD model's Rg and Dmax dots:\n",
    "\n",
    "# State1 34.7919\t106.756\n",
    "# change coordinates - it's x then y\n",
    "ax.scatter([34.7919],[106.756],s=30, color='white')\n",
    "# change text, coordinates and adjust arrow position\n",
    "ax.annotate('\"Open\" 65%', xy=(34.7919, 106.756), xytext=(34.7919, 80), horizontalalignment=\"center\", color='white',\n",
    "            arrowprops=dict(arrowstyle=\"-\", color='white'))\n",
    "\n",
    "# State2 30.4789\t100.509\n",
    "# change coordinates - it's x then y\n",
    "ax.scatter([30.4789],[100.509],s=30, color='white')\n",
    "# change text, coordinates and adjust arrow position\n",
    "ax.annotate('\"Closed\" 35%', xy=(30.4789, 100.509), xytext=(31.5, 140), horizontalalignment=\"center\", color='white')\n",
    "\n",
    "#Starting point of FTS315 BilboMD modelling 35.2716\t122.716S\n",
    "ax.scatter([35.2716],[122.716],s=30, color='white')\n",
    "ax.annotate('START', xy=(35.2716, 122.716), xytext=(35.2716, 125), horizontalalignment=\"center\", color='white')\n",
    "\n",
    "plt.imshow(img, vmin=0.25,  interpolation='gaussian', cmap=cmapheat,\n",
    "           extent=[Rg_floor, Rg_ceiling, Dmax_floor, Dmax_ceiling],\n",
    "           aspect=(Rg_ceiling - Rg_floor)/(Dmax_ceiling - Dmax_floor))\n",
    "\n",
    "# Adds streight vertical line to the \"Closed\" 35% annotation label\n",
    "ax.vlines([30.4789], 100.509, 138, colors='white', linewidth=0.9)\n",
    "\n",
    "# to save the plot - need to change name for each construct\n",
    "plt.savefig('plots/FST315.tif', transparent=True)"
   ]
  },
  {
   "cell_type": "markdown",
   "id": "6e4d69db",
   "metadata": {},
   "source": [
    "### FST303"
   ]
  },
  {
   "cell_type": "code",
   "execution_count": null,
   "id": "6784f9b4",
   "metadata": {},
   "outputs": [],
   "source": [
    "import scipy.ndimage as ndimage\n",
    "\n",
    "img = ndimage.gaussian_filter(heatmap, sigma=(2, 2), order=0)\n",
    "\n",
    "fig = plt.figure(figsize=(4,4),dpi=300)\n",
    "ax = plt.gca()\n",
    "\n",
    "cmapheat = plt.cm.tab20b.copy() #colormap we want to use\n",
    "cmapheat.set_under(('#202245')) # set anything under our defined minimum (vmin below) to white\n",
    "\n",
    "# set the font globally\n",
    "plt.rcParams.update({'font.family':'arial'})\n",
    "\n",
    "# Add title - change title for each construct\n",
    "plt.title('FST303', y=1.05, fontweight='bold')\n",
    "\n",
    "# Add axis names\n",
    "plt.xlabel(r'$\\bf{R_{g}}$, Å', fontweight='bold')\n",
    "plt.ylabel(r'$\\bf{D_{max}}$, Å', fontweight='bold')\n",
    "\n",
    "# Add spacing for axis labels\n",
    "spacing = 0.15\n",
    "fig.subplots_adjust(spacing)\n",
    "\n",
    "# Add BilboMD model's Rg and Dmax dots:\n",
    "\n",
    "# State1\n",
    "# change coordinates - it's x then y\n",
    "ax.scatter([34.466],[107.017],s=30, color='white')\n",
    "# change text, coordinates and adjust arrow position\n",
    "ax.annotate('\"Open\" 63%', xy=(34.466, 107.017), xytext=(34.466, 80), horizontalalignment=\"center\", color='white',\n",
    "            arrowprops=dict(arrowstyle=\"-\", color='white'))\n",
    "\n",
    "# State2\n",
    "# change coordinates - it's x then y\n",
    "ax.scatter([28.444],[89.0537],s=30, color='white')\n",
    "# change text, coordinates and adjust arrow position\n",
    "ax.annotate('\"Closed\" 37%', xy=(28.444, 89.0537), xytext=(28.444, 120), horizontalalignment=\"center\", color='white',\n",
    "            arrowprops=dict(arrowstyle=\"-\", color='white'))\n",
    "\n",
    "#Starting point of BilboMD modelling 32.6835\t107.651\n",
    "ax.scatter([32.6835],[107.651],s=30, color='white')\n",
    "ax.annotate('START', xy=(32.6835, 107.651), xytext=(32.6835, 110), horizontalalignment=\"center\", color='white')\n",
    "\n",
    "plt.imshow(img, vmin=0.25,  interpolation='gaussian', cmap=cmapheat,\n",
    "           extent=[Rg_floor, Rg_ceiling, Dmax_floor, Dmax_ceiling],\n",
    "           aspect=(Rg_ceiling - Rg_floor)/(Dmax_ceiling - Dmax_floor))\n",
    "\n",
    "# to save the plot - need to change name for each construct\n",
    "plt.savefig('plots/FST303.tif', transparent=True)"
   ]
  },
  {
   "cell_type": "code",
   "execution_count": null,
   "id": "272e0115",
   "metadata": {},
   "outputs": [],
   "source": []
  },
  {
   "cell_type": "markdown",
   "id": "444ded4d",
   "metadata": {},
   "source": [
    "### FST288"
   ]
  },
  {
   "cell_type": "code",
   "execution_count": null,
   "id": "4334a4f4",
   "metadata": {},
   "outputs": [],
   "source": [
    "import scipy.ndimage as ndimage\n",
    "\n",
    "img = ndimage.gaussian_filter(heatmap, sigma=(2, 2), order=0)\n",
    "\n",
    "fig = plt.figure(figsize=(4,4),dpi=300)\n",
    "ax = plt.gca()\n",
    "\n",
    "cmapheat = plt.cm.tab20b.copy() #colormap we want to use\n",
    "cmapheat.set_under(('#202245')) # set anything under our defined minimum (vmin below) to white\n",
    "\n",
    "# set the font globally\n",
    "plt.rcParams.update({'font.family':'arial'})\n",
    "\n",
    "# Add title - change title for each construct\n",
    "plt.title('FST288', y=1.05, fontweight='bold')\n",
    "\n",
    "# Add axis names\n",
    "plt.xlabel(r'$\\bf{R_{g}}$, Å', fontweight='bold')\n",
    "plt.ylabel(r'$\\bf{D_{max}}$, Å', fontweight='bold')\n",
    "\n",
    "# Add spacing for axis labels\n",
    "spacing = 0.15\n",
    "fig.subplots_adjust(spacing)\n",
    "\n",
    "# Add BilboMD model's Rg and Dmax dots:\n",
    "\n",
    "# State1 34.8814\t110.714\n",
    "# change coordinates - it's x then y\n",
    "ax.scatter([34.8814],[110.714],s=30, color='white')\n",
    "# change text, coordinates and adjust arrow position\n",
    "ax.annotate('State1 57%', xy=(34.8814, 110.714), xytext=(34.8814, 80), horizontalalignment=\"center\", color='white',\n",
    "            arrowprops=dict(arrowstyle=\"-\", color='white'))\n",
    "\n",
    "# State2 28.4896\t89.6316\n",
    "# change coordinates - it's x then y\n",
    "ax.scatter([28.4896],[89.6316],s=30, color='white')\n",
    "# change text, coordinates and adjust arrow position\n",
    "ax.annotate('State2 43%', xy=(28.4896, 89.6316), xytext=(28.4896, 105), horizontalalignment=\"center\", color='white',\n",
    "            arrowprops=dict(arrowstyle=\"-\", color='white'))\n",
    "\n",
    "#Starting point of BilboMD modelling 31.2958\t89.4564\n",
    "ax.scatter([31.2958],[89.4564],s=30, color='white')\n",
    "ax.annotate('START', xy=(31.2958, 89.4564), xytext=(31.2958, 86), horizontalalignment=\"center\", color='white')\n",
    "\n",
    "ax.imshow(img, vmin=0.25,  interpolation='gaussian', cmap=cmapheat,\n",
    "           extent=[Rg_floor, Rg_ceiling, Dmax_floor, Dmax_ceiling],\n",
    "           aspect=(Rg_ceiling - Rg_floor)/(Dmax_ceiling - Dmax_floor))\n",
    "\n",
    "# to save the plot - need to change name for each construct\n",
    "#plt.savefig('plots/FST288.tif', transparent=True)"
   ]
  },
  {
   "cell_type": "markdown",
   "id": "0e586cb7",
   "metadata": {},
   "source": [
    "# A gradient bar for figures"
   ]
  },
  {
   "cell_type": "code",
   "execution_count": null,
   "id": "5086b07d",
   "metadata": {
    "scrolled": true
   },
   "outputs": [],
   "source": [
    "heatmap = np.arange(0,20)\n",
    "scale = 100\n",
    "\n",
    "colors = cmapheat(heatmap) #get RGB values of the colors in cmapheat\n",
    "\n",
    "\n",
    "colors_blurred = np.zeros((scale*20,3)) # make an identical array to colors, but larger by a factor of `scale` \n",
    "#20 for 20 values in our cmap, 3 for R,G,B (3 colours)\n",
    "for i, c_ in enumerate(colors):\n",
    "    colors_blurred[scale*i:scale*(i+1),:] = c_[:3]\n",
    "\n",
    "    \n",
    "for i, val in enumerate(colors_blurred):\n",
    "    colors_blurred[i] = np.average(colors_blurred[i:i+scale,:],axis=0)\n",
    "    \n",
    "bad_colors = np.array([range(3*scale+1,4*scale),range(7*scale+1,8*scale),\n",
    "                       range(11*scale+1,12*scale),range(15*scale+1,16*scale),range(19*scale+1,20*scale)]).flatten()\n",
    "colors_blurred = np.delete(colors_blurred, bad_colors, axis=0)\n",
    "\n",
    "    \n",
    "colors_blurred_plot = np.repeat(colors_blurred, scale).reshape(-1,3,scale)\n",
    "colors_blurred_plot = np.rollaxis(colors_blurred_plot,axis=2)\n",
    "plt.imshow(colors_blurred_plot)\n",
    "plt.axis('off')\n",
    "plt.savefig('colourbar.png', dpi=500, bbox_inches='tight',pad_inches = 0)"
   ]
  },
  {
   "cell_type": "markdown",
   "id": "445bfbfd",
   "metadata": {},
   "source": [
    "### How the colourmap looks"
   ]
  },
  {
   "cell_type": "code",
   "execution_count": null,
   "id": "badf85cb",
   "metadata": {},
   "outputs": [],
   "source": [
    "cmapheat = plt.cm.tab20b.copy()\n",
    "cmapheat.set_under(('#202245'))\n",
    "cmapheat"
   ]
  },
  {
   "cell_type": "markdown",
   "id": "34702721",
   "metadata": {},
   "source": [
    "# Ignore below - it's a more mathsy way of generating heatmaps"
   ]
  },
  {
   "cell_type": "code",
   "execution_count": null,
   "id": "c9c08d0f",
   "metadata": {},
   "outputs": [],
   "source": [
    "plt.hist(img.flatten())"
   ]
  },
  {
   "cell_type": "code",
   "execution_count": null,
   "id": "1dad9656",
   "metadata": {},
   "outputs": [],
   "source": [
    "#cell for generating a figure with no whitespace\n",
    "import scipy.ndimage as ndimage\n",
    "\n",
    "img = ndimage.gaussian_filter(heatmap, sigma=(2, 2), order=0)\n",
    "\n",
    "fig = plt.figure(figsize=(4,4),dpi=300)\n",
    "ax = plt.gca()\n",
    "\n",
    "plt.imshow(img,  interpolation='gaussian', cmap='tab20b',\n",
    "           extent=[Rg_min,Rg_max,Dmax_min,Dmax_max],\n",
    "           aspect=(Rg_max-Rg_min)/(Dmax_max-Dmax_min))\n",
    "plt.axis('off')\n",
    "\n",
    "plt.savefig('example10.tiff', bbox_inches='tight', pad_inches=0)"
   ]
  },
  {
   "cell_type": "markdown",
   "id": "480a82e1",
   "metadata": {},
   "source": [
    "# Heatmap via distance"
   ]
  },
  {
   "cell_type": "code",
   "execution_count": null,
   "id": "2af60789",
   "metadata": {},
   "outputs": [],
   "source": [
    "size = 200\n",
    "heatmap = np.zeros((size,size))\n",
    "\n",
    "Rg_min, Rg_max = np.min(Rg), np.max(Rg)\n",
    "Dmax_min, Dmax_max = np.min(Dmax), np.max(Dmax)\n",
    "\n",
    "distance_fac = 60\n",
    "distance_R = (Rg_max - Rg_min)/distance_fac\n",
    "distance_D = (Dmax_max - Dmax_min)/distance_fac\n",
    "\n",
    "heatmap = np.zeros((size,size))\n",
    "Rgvals = np.linspace(np.floor(Rg_min),np.ceil(Rg_max) , num=size, endpoint=False)\n",
    "Dmaxvals = np.linspace(np.floor(Dmax_min),np.ceil(Dmax_max) , num=size, endpoint=False)"
   ]
  },
  {
   "cell_type": "code",
   "execution_count": null,
   "id": "cecd0752",
   "metadata": {},
   "outputs": [],
   "source": [
    "for x_, Rg_ in enumerate(Rgvals):\n",
    "    for y_, Dmax_ in enumerate(Dmaxvals):\n",
    "    \n",
    "        #Dmax_ = Dmax[i]\n",
    "\n",
    "        #x_ = np.sum(Rg_ > Rgvals)\n",
    "        #y_ = np.sum(Dmax_ > Dmaxvals)\n",
    "\n",
    "        x_min = Rg_ - distance_R\n",
    "        x_max = Rg_ + distance_R\n",
    "        y_min = Dmax_ - distance_D\n",
    "        y_max = Dmax_ + distance_D\n",
    "\n",
    "        num = (Rg > x_min) * (Rg < x_max) * (Dmax > y_min) * (Dmax < y_max)\n",
    "\n",
    "        heatmap[x_,y_] += np.sum(num)\n",
    "\n",
    "    \n",
    "heatmap = np.rot90(heatmap)"
   ]
  },
  {
   "cell_type": "code",
   "execution_count": null,
   "id": "3b8ef7c0",
   "metadata": {},
   "outputs": [],
   "source": [
    "plt.imshow(heatmap,cmap='Greys')"
   ]
  },
  {
   "cell_type": "code",
   "execution_count": null,
   "id": "3d255348",
   "metadata": {},
   "outputs": [],
   "source": [
    "fig = plt.figure(figsize=(4,4),dpi=200)\n",
    "ax = plt.gca()\n",
    "ax.imshow(heatmap,cmap='Greys',extent=[Rg_min,Rg_max,Dmax_min,Dmax_max],aspect=(Rg_max-Rg_min)/(Dmax_max-Dmax_min))\n",
    "plt.savefig('example4.tiff')"
   ]
  },
  {
   "cell_type": "code",
   "execution_count": null,
   "id": "69561810",
   "metadata": {},
   "outputs": [],
   "source": [
    "import scipy.ndimage as ndimage\n",
    "img = ndimage.gaussian_filter(heatmap, sigma=(3, 3), order=0)\n",
    "plt.imshow(img, interpolation='nearest',cmap='tab20b',\n",
    "           extent=[Rg_min,Rg_max,Dmax_min,Dmax_max],\n",
    "           aspect=(Rg_max-Rg_min)/(Dmax_max-Dmax_min))\n",
    "plt.savefig('example8.tiff')"
   ]
  },
  {
   "cell_type": "code",
   "execution_count": null,
   "id": "ddf66c76",
   "metadata": {},
   "outputs": [],
   "source": [
    "plt.plot((Rg > x_min) * (Rg < x_max))"
   ]
  }
 ],
 "metadata": {
  "kernelspec": {
   "display_name": "py3",
   "language": "python",
   "name": "py3"
  },
  "language_info": {
   "codemirror_mode": {
    "name": "ipython",
    "version": 3
   },
   "file_extension": ".py",
   "mimetype": "text/x-python",
   "name": "python",
   "nbconvert_exporter": "python",
   "pygments_lexer": "ipython3",
   "version": "3.9.13"
  }
 },
 "nbformat": 4,
 "nbformat_minor": 5
}
