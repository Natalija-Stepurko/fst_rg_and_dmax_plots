{
 "cells": [
  {
   "cell_type": "code",
   "execution_count": 1,
   "id": "456cfa8f",
   "metadata": {},
   "outputs": [],
   "source": [
    "%matplotlib qt5\n",
    "import numpy as np\n",
    "import matplotlib.pyplot as plt\n",
    "import csv\n",
    "import pandas as pd"
   ]
  },
  {
   "cell_type": "code",
   "execution_count": 6,
   "id": "59719a81",
   "metadata": {},
   "outputs": [],
   "source": [
    "# Convert .out file to .csv and then convert it into a list\n",
    "out = pd.read_csv('foxs/FST303foxs_rg_dmax.out', sep='\\s+')\n",
    "out.to_csv('csvs/FST303foxs_rg_dmax.csv', index=False)\n",
    "reader = csv.reader(open(\"csvs/FST303foxs_rg_dmax.csv\", \"r\"), delimiter=\",\")\n",
    "x = list(reader)\n",
    "# print(x)"
   ]
  },
  {
   "cell_type": "code",
   "execution_count": 8,
   "id": "c347d472",
   "metadata": {},
   "outputs": [],
   "source": [
    "# convert list x into an array\n",
    "data_array = np.array(x)\n",
    "# print(data_array)"
   ]
  },
  {
   "cell_type": "code",
   "execution_count": 9,
   "id": "3c13775f",
   "metadata": {},
   "outputs": [],
   "source": [
    "#cut one missing row #run multiple times if multiple empty lines\n",
    "while '' in data_array:\n",
    "    line = np.where(data_array == '')\n",
    "    data_array = np.delete(data_array, line[0][0],axis=0)"
   ]
  },
  {
   "cell_type": "code",
   "execution_count": 10,
   "id": "9f6a31b2",
   "metadata": {},
   "outputs": [],
   "source": [
    "Rg = data_array[1:,1].astype('float')\n",
    "Dmax = data_array[1:,2].astype('float')"
   ]
  },
  {
   "cell_type": "code",
   "execution_count": 11,
   "id": "9178b1ee",
   "metadata": {},
   "outputs": [
    {
     "data": {
      "text/plain": [
       "<matplotlib.collections.PathCollection at 0x1cf4062bb20>"
      ]
     },
     "execution_count": 11,
     "metadata": {},
     "output_type": "execute_result"
    }
   ],
   "source": [
    "plt.scatter(Rg,Dmax,c='k',marker='+')"
   ]
  },
  {
   "cell_type": "markdown",
   "id": "13587624",
   "metadata": {},
   "source": [
    "## Generating Heatmaps"
   ]
  },
  {
   "cell_type": "code",
   "execution_count": null,
   "id": "302f6f4c",
   "metadata": {},
   "outputs": [],
   "source": [
    "size = 100\n",
    "\n",
    "Rg_min, Rg_max = np.min(Rg), np.max(Rg)\n",
    "Rg_floor, Rg_ceiling = np.floor(Rg_min), np.ceil(Rg_max)\n",
    "\n",
    "Dmax_min, Dmax_max = np.min(Dmax), np.max(Dmax)\n",
    "Dmax_floor, Dmax_ceiling = np.floor(Dmax_min), np.ceil(Dmax_max)\n",
    "\n",
    "heatmap = np.zeros((size,size))\n",
    "Rgvals = np.linspace(Rg_floor, Rg_ceiling , num=size, endpoint=False)\n",
    "Dmaxvals = np.linspace(Dmax_floor, Dmax_ceiling , num=size, endpoint=False)"
   ]
  },
  {
   "cell_type": "code",
   "execution_count": null,
   "id": "efa36f9b",
   "metadata": {},
   "outputs": [],
   "source": [
    "for i, Rg_ in enumerate(Rg):\n",
    "    Dmax_ = Dmax[i]\n",
    "    \n",
    "    x_ = np.sum(Rg_ > Rgvals)\n",
    "    y_ = np.sum(Dmax_ > Dmaxvals)\n",
    "    \n",
    "    heatmap[x_-1,y_-1] += 1\n",
    "    \n",
    "heatmap = np.rot90(heatmap)"
   ]
  },
  {
   "cell_type": "code",
   "execution_count": null,
   "id": "885c58b2",
   "metadata": {},
   "outputs": [],
   "source": [
    "#fig = plt.figure(figsize=(3,3),dpi=200)\n",
    "#ax = plt.gca()\n",
    "\n",
    "plt.imshow(heatmap,\n",
    "           cmap='Greys',\n",
    "           extent=[Rg_min,Rg_max,Dmax_min,Dmax_max],\n",
    "           aspect=(Rg_max-Rg_min)/(Dmax_max-Dmax_min))\n",
    "#plt.savefig('example1.tiff')"
   ]
  },
  {
   "cell_type": "code",
   "execution_count": null,
   "id": "6784f9b4",
   "metadata": {},
   "outputs": [],
   "source": [
    "import scipy.ndimage as ndimage\n",
    "\n",
    "img = ndimage.gaussian_filter(heatmap, sigma=(2, 2), order=0)\n",
    "\n",
    "fig = plt.figure(figsize=(4,4),dpi=300)\n",
    "ax = plt.gca()\n",
    "\n",
    "cmapheat = plt.cm.tab20c.copy() #colormap we want to use\n",
    "cmapheat.set_under((1,1,1)) # set anything under our defined minimum (vmin below) to white\n",
    "\n",
    "\n",
    "ax.imshow(img, vmin=0.65,  interpolation='gaussian', cmap=cmapheat,\n",
    "           extent=[Rg_floor, Rg_ceiling, Dmax_floor, Dmax_ceiling],\n",
    "           aspect=(Rg_ceiling - Rg_floor)/(Dmax_ceiling - Dmax_floor))\n",
    "\n",
    "#ax.scatter([28],[93],c='k',s=2)\n",
    "#ax.text(28,93,'woah')\n",
    "\n",
    "plt.savefig('example11.tif')"
   ]
  },
  {
   "cell_type": "code",
   "execution_count": null,
   "id": "c9c08d0f",
   "metadata": {},
   "outputs": [],
   "source": [
    "plt.hist(img.flatten())"
   ]
  },
  {
   "cell_type": "code",
   "execution_count": null,
   "id": "1dad9656",
   "metadata": {},
   "outputs": [],
   "source": [
    "#cell for generating a figure with no whitespace\n",
    "import scipy.ndimage as ndimage\n",
    "\n",
    "img = ndimage.gaussian_filter(heatmap, sigma=(2, 2), order=0)\n",
    "\n",
    "fig = plt.figure(figsize=(4,4),dpi=300)\n",
    "ax = plt.gca()\n",
    "\n",
    "plt.imshow(img,  interpolation='gaussian', cmap='tab20b',\n",
    "           extent=[Rg_min,Rg_max,Dmax_min,Dmax_max],\n",
    "           aspect=(Rg_max-Rg_min)/(Dmax_max-Dmax_min))\n",
    "plt.axis('off')\n",
    "\n",
    "plt.savefig('example10.tiff', bbox_inches='tight', pad_inches=0)"
   ]
  },
  {
   "cell_type": "markdown",
   "id": "480a82e1",
   "metadata": {},
   "source": [
    "# Heatmap via distance"
   ]
  },
  {
   "cell_type": "code",
   "execution_count": null,
   "id": "2af60789",
   "metadata": {},
   "outputs": [],
   "source": [
    "size = 200\n",
    "heatmap = np.zeros((size,size))\n",
    "\n",
    "Rg_min, Rg_max = np.min(Rg), np.max(Rg)\n",
    "Dmax_min, Dmax_max = np.min(Dmax), np.max(Dmax)\n",
    "\n",
    "distance_fac = 60\n",
    "distance_R = (Rg_max - Rg_min)/distance_fac\n",
    "distance_D = (Dmax_max - Dmax_min)/distance_fac\n",
    "\n",
    "heatmap = np.zeros((size,size))\n",
    "Rgvals = np.linspace(np.floor(Rg_min),np.ceil(Rg_max) , num=size, endpoint=False)\n",
    "Dmaxvals = np.linspace(np.floor(Dmax_min),np.ceil(Dmax_max) , num=size, endpoint=False)"
   ]
  },
  {
   "cell_type": "code",
   "execution_count": null,
   "id": "cecd0752",
   "metadata": {},
   "outputs": [],
   "source": [
    "for x_, Rg_ in enumerate(Rgvals):\n",
    "    for y_, Dmax_ in enumerate(Dmaxvals):\n",
    "    \n",
    "        #Dmax_ = Dmax[i]\n",
    "\n",
    "        #x_ = np.sum(Rg_ > Rgvals)\n",
    "        #y_ = np.sum(Dmax_ > Dmaxvals)\n",
    "\n",
    "        x_min = Rg_ - distance_R\n",
    "        x_max = Rg_ + distance_R\n",
    "        y_min = Dmax_ - distance_D\n",
    "        y_max = Dmax_ + distance_D\n",
    "\n",
    "        num = (Rg > x_min) * (Rg < x_max) * (Dmax > y_min) * (Dmax < y_max)\n",
    "\n",
    "        heatmap[x_,y_] += np.sum(num)\n",
    "\n",
    "    \n",
    "heatmap = np.rot90(heatmap)"
   ]
  },
  {
   "cell_type": "code",
   "execution_count": null,
   "id": "3b8ef7c0",
   "metadata": {},
   "outputs": [],
   "source": [
    "plt.imshow(heatmap,cmap='Greys')"
   ]
  },
  {
   "cell_type": "code",
   "execution_count": null,
   "id": "3d255348",
   "metadata": {},
   "outputs": [],
   "source": [
    "fig = plt.figure(figsize=(4,4),dpi=200)\n",
    "ax = plt.gca()\n",
    "ax.imshow(heatmap,cmap='Greys',extent=[Rg_min,Rg_max,Dmax_min,Dmax_max],aspect=(Rg_max-Rg_min)/(Dmax_max-Dmax_min))\n",
    "plt.savefig('example4.tiff')"
   ]
  },
  {
   "cell_type": "code",
   "execution_count": null,
   "id": "69561810",
   "metadata": {},
   "outputs": [],
   "source": [
    "import scipy.ndimage as ndimage\n",
    "img = ndimage.gaussian_filter(heatmap, sigma=(3, 3), order=0)\n",
    "plt.imshow(img, interpolation='nearest',cmap='tab20b',\n",
    "           extent=[Rg_min,Rg_max,Dmax_min,Dmax_max],\n",
    "           aspect=(Rg_max-Rg_min)/(Dmax_max-Dmax_min))\n",
    "plt.savefig('example8.tiff')"
   ]
  },
  {
   "cell_type": "code",
   "execution_count": null,
   "id": "ddf66c76",
   "metadata": {},
   "outputs": [],
   "source": [
    "plt.plot((Rg > x_min) * (Rg < x_max))"
   ]
  },
  {
   "cell_type": "code",
   "execution_count": null,
   "id": "5f1d1b3f",
   "metadata": {},
   "outputs": [],
   "source": []
  },
  {
   "cell_type": "code",
   "execution_count": null,
   "id": "130b8b32",
   "metadata": {},
   "outputs": [],
   "source": []
  }
 ],
 "metadata": {
  "kernelspec": {
   "display_name": "py3",
   "language": "python",
   "name": "py3"
  },
  "language_info": {
   "codemirror_mode": {
    "name": "ipython",
    "version": 3
   },
   "file_extension": ".py",
   "mimetype": "text/x-python",
   "name": "python",
   "nbconvert_exporter": "python",
   "pygments_lexer": "ipython3",
   "version": "3.9.13"
  }
 },
 "nbformat": 4,
 "nbformat_minor": 5
}
